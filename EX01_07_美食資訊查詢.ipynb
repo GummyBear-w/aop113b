{
  "nbformat": 4,
  "nbformat_minor": 0,
  "metadata": {
    "colab": {
      "provenance": [],
      "authorship_tag": "ABX9TyOTgXSe/aSt0riClwwB82+0",
      "include_colab_link": true
    },
    "kernelspec": {
      "name": "python3",
      "display_name": "Python 3"
    },
    "language_info": {
      "name": "python"
    }
  },
  "cells": [
    {
      "cell_type": "markdown",
      "metadata": {
        "id": "view-in-github",
        "colab_type": "text"
      },
      "source": [
        "<a href=\"https://colab.research.google.com/github/GummyBear-w/aop113b/blob/main/EX01_07_%E7%BE%8E%E9%A3%9F%E8%B3%87%E8%A8%8A%E6%9F%A5%E8%A9%A2.ipynb\" target=\"_parent\"><img src=\"https://colab.research.google.com/assets/colab-badge.svg\" alt=\"Open In Colab\"/></a>"
      ]
    },
    {
      "cell_type": "code",
      "source": [
        "!pip install gradio"
      ],
      "metadata": {
        "id": "KFOUHXpC45im"
      },
      "execution_count": null,
      "outputs": []
    },
    {
      "cell_type": "code",
      "execution_count": 11,
      "metadata": {
        "colab": {
          "base_uri": "https://localhost:8080/",
          "height": 648
        },
        "id": "cA9BIknDy9Ff",
        "outputId": "de3ded4b-21eb-45f6-a06e-f895efef2fd5"
      },
      "outputs": [
        {
          "output_type": "stream",
          "name": "stdout",
          "text": [
            "Running Gradio in a Colab notebook requires sharing enabled. Automatically setting `share=True` (you can turn this off by setting `share=False` in `launch()` explicitly).\n",
            "\n",
            "Colab notebook detected. To show errors in colab notebook, set debug=True in launch()\n",
            "* Running on public URL: https://edad270f3160baa857.gradio.live\n",
            "\n",
            "This share link expires in 72 hours. For free permanent hosting and GPU upgrades, run `gradio deploy` from the terminal in the working directory to deploy to Hugging Face Spaces (https://huggingface.co/spaces)\n"
          ]
        },
        {
          "output_type": "display_data",
          "data": {
            "text/plain": [
              "<IPython.core.display.HTML object>"
            ],
            "text/html": [
              "<div><iframe src=\"https://edad270f3160baa857.gradio.live\" width=\"100%\" height=\"500\" allow=\"autoplay; camera; microphone; clipboard-read; clipboard-write;\" frameborder=\"0\" allowfullscreen></iframe></div>"
            ]
          },
          "metadata": {}
        },
        {
          "output_type": "execute_result",
          "data": {
            "text/plain": []
          },
          "metadata": {},
          "execution_count": 11
        }
      ],
      "source": [
        "import gradio as gr\n",
        "\n",
        "food_database = [\n",
        "    {\"name\": \"一本拉麵 本店\", \"address\": \"800高雄市新興區玉竹一街17巷2弄1號\", \"phone\": \"+88672812920\"},\n",
        "    {\"name\": \"上海生煎湯包\", \"address\": \"807高雄市三民區熱河一街208號\", \"phone\": \"+88673220702\"},\n",
        "    {\"name\": \"華饌湯包麵食館（五福店）\", \"address\": \"802高雄市苓雅區五福一路79號\", \"phone\": \"+88672228579\"},\n",
        "    {\"name\": \"陳家豬肉麵\", \"address\": \"803高雄市鹽埕區新樂街67之2號\", \"phone\": \"+88675516284\"},\n",
        "    {\"name\": \"拾七石頭火鍋 中山店\", \"address\": \"800高雄市新興區中山二路500號\", \"phone\": \"+88672152976\"}\n",
        "]\n",
        "\n",
        "menu = [im[\"name\"]for im in food_database]\n",
        "\n",
        "def food_info(store_name):\n",
        "    for im in food_database:\n",
        "        if im[\"name\"] == store_name:\n",
        "            info = im[\"name\"] + '\\n' + im[\"address\"] + '\\n' + im[\"phone\"]\n",
        "            break\n",
        "    return info\n",
        "\n",
        "interface = gr.Interface(\n",
        "    fn=food_info,\n",
        "    inputs=gr.Dropdown(choices=menu, label='選一間餐廳🤩'),\n",
        "    outputs=gr.Textbox(label= '餐廳資訊：')\n",
        ")\n",
        "interface.launch()"
      ]
    }
  ]
}