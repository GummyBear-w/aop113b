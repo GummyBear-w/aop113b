{
  "nbformat": 4,
  "nbformat_minor": 0,
  "metadata": {
    "colab": {
      "provenance": [],
      "authorship_tag": "ABX9TyNDgv8C3dlJMZ3U8t5iuYaZ",
      "include_colab_link": true
    },
    "kernelspec": {
      "name": "python3",
      "display_name": "Python 3"
    },
    "language_info": {
      "name": "python"
    }
  },
  "cells": [
    {
      "cell_type": "markdown",
      "metadata": {
        "id": "view-in-github",
        "colab_type": "text"
      },
      "source": [
        "<a href=\"https://colab.research.google.com/github/GummyBear-w/aop113b/blob/main/EX01_03_Rock_Paper_Scissors.ipynb\" target=\"_parent\"><img src=\"https://colab.research.google.com/assets/colab-badge.svg\" alt=\"Open In Colab\"/></a>"
      ]
    },
    {
      "cell_type": "code",
      "execution_count": 2,
      "metadata": {
        "colab": {
          "base_uri": "https://localhost:8080/"
        },
        "id": "zLQr0twpRn4Z",
        "outputId": "ac5be294-d167-4839-9401-bc938b110f19"
      },
      "outputs": [
        {
          "output_type": "stream",
          "name": "stdout",
          "text": [
            "Choose 0 or 2 or 5: 2\n",
            "Computer chose: 5\n",
            "Player wins\n"
          ]
        }
      ],
      "source": [
        "import random\n",
        "player = int(input('Choose 0 or 2 or 5: '))\n",
        "computer = random.choice([0, 2, 5])\n",
        "print(f'Computer chose: {computer}')\n",
        "\n",
        "if player == computer:\n",
        "    print('Draw')\n",
        "elif (player == 0 and computer == 2) or (player == 2 and computer == 5) or (player == 5 and computer == 0):\n",
        "    print('Player wins')\n",
        "else:\n",
        "    print('Computer wins')"
      ]
    }
  ]
}