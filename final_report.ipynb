{
  "cells": [
    {
      "cell_type": "markdown",
      "metadata": {
        "id": "view-in-github",
        "colab_type": "text"
      },
      "source": [
        "<a href=\"https://colab.research.google.com/github/GummyBear-w/aop113b/blob/main/final_report.ipynb\" target=\"_parent\"><img src=\"https://colab.research.google.com/assets/colab-badge.svg\" alt=\"Open In Colab\"/></a>"
      ]
    },
    {
      "cell_type": "markdown",
      "id": "bb57b667",
      "metadata": {
        "id": "bb57b667"
      },
      "source": [
        "\n",
        "# 專案報告：寶可夢問答遊戲\n"
      ]
    },
    {
      "cell_type": "markdown",
      "source": [
        "\n",
        "## 一、專案動機與目的"
      ],
      "metadata": {
        "id": "rUQMy-Wdpiqv"
      },
      "id": "rUQMy-Wdpiqv"
    },
    {
      "cell_type": "markdown",
      "id": "09c6f7b9",
      "metadata": {
        "id": "09c6f7b9"
      },
      "source": [
        "\n",
        "\n",
        "本專案以我個人喜歡的寶可夢為主題，設計並實作一款支援多人連線的網頁寶可夢問答遊戲。\n",
        "\n",
        "遊戲的核心機制建立於 PokéAPI 公開資料之上，透過串接 API 即時取得寶可夢圖片與相關資訊作為題目素材，實現資料驅動的互動體驗。本專案整合 React 前端框架、Socket.IO 即時通訊技術，以及 Render 雲端平台部署，實踐完整的前後端整合流程與多人互動遊戲體驗。\n"
      ]
    },
    {
      "cell_type": "markdown",
      "source": [
        "\n",
        "## 二、系統架構與開發工具"
      ],
      "metadata": {
        "id": "jijczsMLpnde"
      },
      "id": "jijczsMLpnde"
    },
    {
      "cell_type": "markdown",
      "id": "2103a2e5",
      "metadata": {
        "id": "2103a2e5"
      },
      "source": [
        "\n",
        "\n",
        "### 前端技術\n",
        "- React（Vite 建構工具）\n",
        "- Tailwind CSS（UI 樣式設計）\n",
        "- Socket.IO client（即時通訊）\n",
        "- Vercel（前端部署平台）\n",
        "\n",
        "### 後端技術\n",
        "- Node.js + Express + Socket.IO（即時伺服器）\n",
        "- Render（免費雲端後端部署）\n",
        "\n"
      ]
    },
    {
      "cell_type": "markdown",
      "source": [
        "\n",
        "## 三、功能介紹"
      ],
      "metadata": {
        "id": "p7KQjYHMppfK"
      },
      "id": "p7KQjYHMppfK"
    },
    {
      "cell_type": "markdown",
      "id": "7be4c067",
      "metadata": {
        "id": "7be4c067"
      },
      "source": [
        "\n",
        "\n",
        "### 遊戲模式\n",
        "- 單人模式：玩家根據圖片輸入寶可夢名稱，答題完畢後顯示得分。\n",
        "- 多人模式：支援多人連線遊玩（至多5人），和朋友一起搶答，最後以排行榜顯示誰才是真正的贏家。\n",
        "\n",
        "### 自訂設定\n",
        "- 題數與答題秒數可透過滑桿設定。\n",
        "- 支援明亮與暗色主題切換。\n",
        "\n",
        "### 答案氣泡\n",
        "- 玩家答題會以浮動氣泡顯示於畫面，提供干擾效果增加遊戲難度同時顯示先前回答。\n",
        "- 答對為黃色氣泡，答錯為橘色。\n",
        "\n",
        "### 房間機制\n",
        "- 玩家可創建或加入房間進行多人遊戲。\n",
        "- 由房主設定題數與秒數，並開始遊戲。\n",
        "\n"
      ]
    },
    {
      "cell_type": "markdown",
      "id": "09d667d0",
      "metadata": {
        "id": "09d667d0"
      },
      "source": [
        "\n",
        "## 四、成果展示\n"
      ]
    },
    {
      "cell_type": "code",
      "source": [
        "from google.colab import drive\n",
        "drive.mount('/content/drive')"
      ],
      "metadata": {
        "colab": {
          "base_uri": "https://localhost:8080/"
        },
        "id": "qZWUCbnta7Xa",
        "outputId": "df981667-dda5-4d91-b71d-f36319d55c32"
      },
      "id": "qZWUCbnta7Xa",
      "execution_count": 3,
      "outputs": [
        {
          "output_type": "stream",
          "name": "stdout",
          "text": [
            "Drive already mounted at /content/drive; to attempt to forcibly remount, call drive.mount(\"/content/drive\", force_remount=True).\n"
          ]
        }
      ]
    },
    {
      "cell_type": "markdown",
      "source": [
        "### 主要程式片段"
      ],
      "metadata": {
        "id": "lwsvCFFCiukO"
      },
      "id": "lwsvCFFCiukO"
    },
    {
      "cell_type": "markdown",
      "source": [
        "**呼叫 PokéAPI 獲取寶可夢**  \n",
        "從 PokeAPI 取得隨機寶可夢資料，解析圖片與多語系名稱，並回傳作為問答資料使用。"
      ],
      "metadata": {
        "id": "QZ5S0NPhjRFI"
      },
      "id": "QZ5S0NPhjRFI"
    },
    {
      "cell_type": "code",
      "source": [
        "async function fetchRandomPokemon() {\n",
        "\ttry {\n",
        "\t\tconst id = Math.floor(Math.random() * 1010) + 1;\n",
        "\t\tconsole.log(`🔍 獲取寶可夢 ID: ${id}`);\n",
        "\n",
        "\t\tconst res = await fetch(`https://pokeapi.co/api/v2/pokemon/${id}`);\n",
        "\t\tconst data = await res.json();\n",
        "\n",
        "\t\tconst speciesRes = await fetch(data.species.url);\n",
        "\t\tconst speciesData = await speciesRes.json();\n",
        "\n",
        "\t\tconst zhEntry = speciesData.names.find(\n",
        "\t\t\t(n) => n.language.name === \"zh-Hant\"\n",
        "\t\t);\n",
        "\t\tconst nameZh = zhEntry?.name || speciesData.names[0]?.name || \"未知\";\n",
        "\t\tconst allNames = speciesData.names.map((n) => n.name);\n",
        "\t\tallNames.push(data.name);\n",
        "\n",
        "\t\tconsole.log(`✅ 已獲取寶可夢: ${nameZh}`);\n",
        "\n",
        "\t\treturn {\n",
        "\t\t\timageUrl: data.sprites.other[\"official-artwork\"].front_default,\n",
        "\t\t\tcorrectAnswer: nameZh,\n",
        "\t\t\tacceptedAnswers: allNames.map((n) => n.toLowerCase()),\n",
        "\t\t};\n",
        "\t} catch (error) {\n",
        "\t\tconsole.error(`❌ 獲取寶可夢失敗:`, error);\n",
        "\t\tthrow error;\n",
        "\t}\n",
        "}"
      ],
      "metadata": {
        "id": "4fOZN6ncjXiz"
      },
      "id": "4fOZN6ncjXiz",
      "execution_count": null,
      "outputs": []
    },
    {
      "cell_type": "markdown",
      "source": [
        "**答案提交與即時回饋**  \n",
        "處理玩家即時提交答案、判斷是否正確、更新分數、並廣播正確答案與觸發下一題。"
      ],
      "metadata": {
        "id": "SdaP_XoCkff7"
      },
      "id": "SdaP_XoCkff7"
    },
    {
      "cell_type": "code",
      "source": [
        "\tsocket.on(\"submit_answer\", async ({ answer }) => {\n",
        "\t\tconst roomCode = socketToRoom[socket.id];\n",
        "\t\tconst room = rooms[roomCode];\n",
        "\t\tif (!room || !room.gameInProgress) return;\n",
        "\n",
        "\t\tconst player = room.players.find((p) => p.id === socket.id);\n",
        "\t\tif (!player) return;\n",
        "\n",
        "\t\tif (room.questionAnswered) {\n",
        "\t\t\treturn;\n",
        "\t\t}\n",
        "\n",
        "\t\tconst userAnswer = answer.toLowerCase().trim();\n",
        "\n",
        "\t\tif (!userAnswer) {\n",
        "\t\t\tio.to(roomCode).emit(\"player_answered\", {\n",
        "\t\t\t\tplayerId: socket.id,\n",
        "\t\t\t\tnickname: player.nickname,\n",
        "\t\t\t\tanswer,\n",
        "\t\t\t\tcorrect: false,\n",
        "\t\t\t});\n",
        "\t\t\treturn;\n",
        "\t\t}\n",
        "\n",
        "\t\tconst acceptedAnswers = room.currentQuestionData?.acceptedAnswers || [];\n",
        "\n",
        "\t\tlet isCorrect = false;\n",
        "\t\tfor (const acceptedAnswer of acceptedAnswers) {\n",
        "\t\t\tif (\n",
        "\t\t\t\tuserAnswer === acceptedAnswer ||\n",
        "\t\t\t\tuserAnswer.includes(acceptedAnswer) ||\n",
        "\t\t\t\tacceptedAnswer.includes(userAnswer)\n",
        "\t\t\t) {\n",
        "\t\t\t\tisCorrect = true;\n",
        "\t\t\t\tbreak;\n",
        "\t\t\t}\n",
        "\t\t}\n",
        "\n",
        "\t\tio.to(roomCode).emit(\"player_answered\", {\n",
        "\t\t\tplayerId: socket.id,\n",
        "\t\t\tnickname: player.nickname,\n",
        "\t\t\tanswer,\n",
        "\t\t\tcorrect: isCorrect,\n",
        "\t\t});\n",
        "\n",
        "\t\tif (isCorrect) {\n",
        "\n",
        "\t\t\troom.questionAnswered = true;\n",
        "\n",
        "\t\t\tplayer.score += 1;\n",
        "\n",
        "\t\t\tio.to(roomCode).emit(\"game_update\", {\n",
        "\t\t\t\tplayers: room.players,\n",
        "\t\t\t});\n",
        "\n",
        "\t\t\tclearAllTimers(room);\n",
        "\n",
        "\t\t\tio.to(roomCode).emit(\"show_answer\", {\n",
        "\t\t\t\tcorrectAnswer: room.currentQuestionData.correctAnswer,\n",
        "\t\t\t\tansweredBy: player.nickname,\n",
        "\t\t\t});\n",
        "\n",
        "\t\t\troom.nextQuestionTimer = setTimeout(() => {\n",
        "\t\t\t\tstartNextQuestion(roomCode);\n",
        "\t\t\t}, 1500);\n",
        "\t\t}\n",
        "\t});"
      ],
      "metadata": {
        "id": "53zMKkG3kV6y"
      },
      "id": "53zMKkG3kV6y",
      "execution_count": null,
      "outputs": []
    },
    {
      "cell_type": "markdown",
      "source": [
        "完整程式碼在Github：[前端](https://github.com/GummyBear-w/poke-quiz-game)、[後端](https://github.com/GummyBear-w/poke-quiz-server)。"
      ],
      "metadata": {
        "id": "t1vM6lqSk3lU"
      },
      "id": "t1vM6lqSk3lU"
    },
    {
      "cell_type": "markdown",
      "source": [
        "### 單人遊戲demo影片"
      ],
      "metadata": {
        "id": "ltNzYzMUijyc"
      },
      "id": "ltNzYzMUijyc"
    },
    {
      "cell_type": "markdown",
      "source": [
        "<video src=\"https://github.com/GummyBear-w/poke-quiz-game/raw/main/img/%E5%96%AE%E4%BA%BA%E9%81%8A%E6%88%B2%E7%95%AB%E9%9D%A2.mp4\" controls width=\"750\"></video>"
      ],
      "metadata": {
        "id": "u9tcPGRSh3-e"
      },
      "id": "u9tcPGRSh3-e"
    },
    {
      "cell_type": "markdown",
      "source": [
        "### 多人遊戲demo影片"
      ],
      "metadata": {
        "id": "CkB3zsd4hUtu"
      },
      "id": "CkB3zsd4hUtu"
    },
    {
      "cell_type": "markdown",
      "source": [
        "<video src=\"https://github.com/GummyBear-w/poke-quiz-game/raw/main/img/%E5%A4%9A%E4%BA%BA%E9%81%8A%E6%88%B2%E7%95%AB%E9%9D%A2.mp4\" controls width=\"750\"></video>"
      ],
      "metadata": {
        "id": "1XfFzdt3he47"
      },
      "id": "1XfFzdt3he47"
    },
    {
      "cell_type": "markdown",
      "source": [
        "### 詳細遊戲介面展示"
      ],
      "metadata": {
        "id": "GFIJu4JdYBfZ"
      },
      "id": "GFIJu4JdYBfZ"
    },
    {
      "cell_type": "markdown",
      "source": [
        "**選擇遊玩模式**\n",
        "<br>\n",
        "<img src=\"https://github.com/GummyBear-w/poke-quiz-game/raw/main/img/%E9%81%B8%E6%93%87%E6%A8%A1%E5%BC%8F.png\" width= \"750px\" >"
      ],
      "metadata": {
        "id": "e4GyOmJCad1m"
      },
      "id": "e4GyOmJCad1m"
    },
    {
      "cell_type": "markdown",
      "source": [
        "**輸入暱稱**\n",
        "<br>\n",
        "<img src=\"https://github.com/GummyBear-w/poke-quiz-game/raw/main/img/%E8%BC%B8%E5%85%A5%E6%9A%B1%E7%A8%B1.png\" width= \"750px\" >"
      ],
      "metadata": {
        "id": "k8TaU1MEe0Wl"
      },
      "id": "k8TaU1MEe0Wl"
    },
    {
      "cell_type": "markdown",
      "source": [
        "**選擇創建或加入房間**\n",
        "<br>\n",
        "<img src=\"https://github.com/GummyBear-w/poke-quiz-game/raw\n",
        "/main/img/%E9%81%B8%E6%93%87%E7%95%B6%E6%88%BF%E4%B8%BB%E9%82%84%E6%98%AF%E5%8A%A0%E5%85%A5.png\" width= \"750px\" >"
      ],
      "metadata": {
        "id": "OuMMjDPJe-_Z"
      },
      "id": "OuMMjDPJe-_Z"
    },
    {
      "cell_type": "markdown",
      "source": [
        "**房主介面**\n",
        "<br>\n",
        "<img src=\"https://github.com/GummyBear-w/poke-quiz-game/raw/main/img/%E6%88%BF%E4%B8%BB%E7%95%8C%E9%9D%A2.png\" width= \"750px\" >"
      ],
      "metadata": {
        "id": "uWI5BVXUe_FS"
      },
      "id": "uWI5BVXUe_FS"
    },
    {
      "cell_type": "markdown",
      "source": [
        "**加入者介面（dark mode）**\n",
        "<br>\n",
        "<img src=\"https://github.com/GummyBear-w/poke-quiz-game/raw/main/img/%E5%B7%B2%E5%8A%A0%E5%85%A5.png\" width= \"750px\" >"
      ],
      "metadata": {
        "id": "Y2vMZgDie_L7"
      },
      "id": "Y2vMZgDie_L7"
    },
    {
      "cell_type": "markdown",
      "source": [
        "**由房主開始遊戲**\n",
        "<br>\n",
        "<img src=\"https://github.com/GummyBear-w/poke-quiz-game/raw/main/img/%E7%94%B1%E6%88%BF%E4%B8%BB%E9%96%8B%E4%BD%BF%E9%81%8A%E6%88%B2.png\" width= \"750px\" >"
      ],
      "metadata": {
        "id": "z18h16g-oM6Z"
      },
      "id": "z18h16g-oM6Z"
    },
    {
      "cell_type": "markdown",
      "source": [
        "**多人遊戲進行畫面**\n",
        "<br>\n",
        "<img src=\"https://github.com/GummyBear-w/poke-quiz-game/raw/main/img/%E6%88%AA%E5%9C%96%202025-06-15%20%E6%99%9A%E4%B8%8A8.45.17.png\" width= \"750px\" >"
      ],
      "metadata": {
        "id": "mZLsGHx-oNM_"
      },
      "id": "mZLsGHx-oNM_"
    },
    {
      "cell_type": "markdown",
      "source": [
        "**多人遊戲結束，排行榜畫面**\n",
        "<br>\n",
        "<img src=\"https://github.com/GummyBear-w/poke-quiz-game/raw/main/img/%E6%88%AA%E5%9C%96%202025-06-15%20%E6%99%9A%E4%B8%8A8.45.40.png\" width= \"750px\" >"
      ],
      "metadata": {
        "id": "Ajy9t71xoj8S"
      },
      "id": "Ajy9t71xoj8S"
    },
    {
      "cell_type": "markdown",
      "source": [
        "\n",
        "## 五、限制與未來展望"
      ],
      "metadata": {
        "id": "9dWxgj4gpwWV"
      },
      "id": "9dWxgj4gpwWV"
    },
    {
      "cell_type": "markdown",
      "id": "592a30d4",
      "metadata": {
        "id": "592a30d4"
      },
      "source": [
        "\n",
        "\n",
        "### 限制\n",
        "- Render 免費伺服器一定時間後將休眠導致初次連線時間等待時間偏長，免費額度耗盡後伺服器會停止。\n",
        "- 實作連線狀態偵測、自動重連與手動跳過機制，確保遊戲不中斷。\n",
        "- 目前尚未支援玩家中途斷線後重新加入同一場遊戲。\n",
        "- 題目資料完全來自第三方 API，若 PokéAPI 停止提供服務，遊戲將無法正常產生題目。\n",
        "\n",
        "### 未來展望\n",
        "- 增加自定義功能，如開關答題提示、設定等待時間、踢除違規玩家、延遲開始遊戲等，提升管理彈性。\n",
        "- 最佳化手機與平板操作介面，加入虛擬鍵盤按鈕、語音輸入等更適合行動裝置的答題模式。\n",
        "- 建設資料庫讓玩家能保留自己的遊玩紀錄"
      ]
    },
    {
      "cell_type": "markdown",
      "source": [
        "## 也許有人想玩"
      ],
      "metadata": {
        "id": "Hpubi6Tcpz7C"
      },
      "id": "Hpubi6Tcpz7C"
    },
    {
      "cell_type": "markdown",
      "source": [
        "\n",
        "想玩的話請到 ➡️ [寶可夢問答遊戲](\n",
        "https://poke-quiz-game-pied.vercel.app/) 由於我是免費仔所以多人遊戲剛開始建房間可能要等半分鐘左右，請見諒。    \n",
        "單人模式（寶可夢問答大賽）就不用等哦！\n"
      ],
      "metadata": {
        "id": "hoXzKnV8mNsK"
      },
      "id": "hoXzKnV8mNsK"
    }
  ],
  "metadata": {
    "colab": {
      "provenance": [],
      "include_colab_link": true
    },
    "language_info": {
      "name": "python"
    },
    "kernelspec": {
      "name": "python3",
      "display_name": "Python 3"
    }
  },
  "nbformat": 4,
  "nbformat_minor": 5
}