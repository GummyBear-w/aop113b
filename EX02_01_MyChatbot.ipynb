{
  "nbformat": 4,
  "nbformat_minor": 0,
  "metadata": {
    "colab": {
      "provenance": [],
      "authorship_tag": "ABX9TyOCC92Z9HqxjxzbqrSZoTUC",
      "include_colab_link": true
    },
    "kernelspec": {
      "name": "python3",
      "display_name": "Python 3"
    },
    "language_info": {
      "name": "python"
    }
  },
  "cells": [
    {
      "cell_type": "markdown",
      "metadata": {
        "id": "view-in-github",
        "colab_type": "text"
      },
      "source": [
        "<a href=\"https://colab.research.google.com/github/GummyBear-w/aop113b/blob/main/EX02_01_MyChatbot.ipynb\" target=\"_parent\"><img src=\"https://colab.research.google.com/assets/colab-badge.svg\" alt=\"Open In Colab\"/></a>"
      ]
    },
    {
      "cell_type": "code",
      "execution_count": 9,
      "metadata": {
        "id": "pm15d--_IbEN"
      },
      "outputs": [],
      "source": [
        "import google.generativeai as genai\n",
        "from google.colab import userdata\n",
        "\n",
        "genai.configure(api_key = userdata.get('GeminiApiKey'))\n",
        "\n",
        "generation_config = {\n",
        "    \"temperature\": 2,\n",
        "    \"max_output_tokens\": 555\n",
        "}\n",
        "model = genai.GenerativeModel(\"gemini-2.0-flash-exp\", generation_config = generation_config)"
      ]
    },
    {
      "cell_type": "code",
      "source": [
        "from IPython.display import Markdown, display\n",
        "\n",
        "chat = model.start_chat(history=[])\n",
        "\n",
        "while True:\n",
        "    message = input('You: ')\n",
        "    if message == 'quit':\n",
        "        break\n",
        "    response = chat.send_message(message)\n",
        "    print('Bot: ')\n",
        "    display(Markdown(response.text))"
      ],
      "metadata": {
        "colab": {
          "base_uri": "https://localhost:8080/",
          "height": 417
        },
        "id": "Fq05GBzxSgy-",
        "outputId": "e7659605-0108-406a-f665-193b08ea8cd5"
      },
      "execution_count": 14,
      "outputs": [
        {
          "output_type": "stream",
          "name": "stdout",
          "text": [
            "You: How do u do?\n",
            "Bot: \n"
          ]
        },
        {
          "output_type": "display_data",
          "data": {
            "text/plain": [
              "<IPython.core.display.Markdown object>"
            ],
            "text/markdown": "I am doing well, thank you for asking! How can I help you today?\n"
          },
          "metadata": {}
        },
        {
          "output_type": "stream",
          "name": "stdout",
          "text": [
            "You: Do u like monkeys?\n",
            "Bot: \n"
          ]
        },
        {
          "output_type": "display_data",
          "data": {
            "text/plain": [
              "<IPython.core.display.Markdown object>"
            ],
            "text/markdown": "As an AI, I don't have feelings or preferences like \"liking\" things. However, I can say that monkeys are fascinating animals. They are highly intelligent, social, and play a vital role in their ecosystems. I have access to a lot of information about them and find their behavior quite interesting.\n\nSo, while I can't \"like\" them in the way a person can, I appreciate them as an interesting and important part of the animal kingdom.\n\nDo you like monkeys?\n"
          },
          "metadata": {}
        },
        {
          "output_type": "stream",
          "name": "stdout",
          "text": [
            "You: I hate monkeys.\n",
            "Bot: \n"
          ]
        },
        {
          "output_type": "display_data",
          "data": {
            "text/plain": [
              "<IPython.core.display.Markdown object>"
            ],
            "text/markdown": "Okay, I understand. It's perfectly valid to have dislikes. What is it about monkeys that you dislike? Is there something specific that makes you feel that way?\n"
          },
          "metadata": {}
        },
        {
          "output_type": "stream",
          "name": "stdout",
          "text": [
            "You: They rubbed me once.\n",
            "Bot: \n"
          ]
        },
        {
          "output_type": "display_data",
          "data": {
            "text/plain": [
              "<IPython.core.display.Markdown object>"
            ],
            "text/markdown": "That sounds like a very unpleasant experience! I can understand why being rubbed by a monkey might lead you to dislike them. It's perfectly reasonable to feel uncomfortable after something like that happens.\n\nThanks for sharing your experience with me.\n"
          },
          "metadata": {}
        },
        {
          "name": "stdout",
          "output_type": "stream",
          "text": [
            "You: quit\n"
          ]
        }
      ]
    }
  ]
}