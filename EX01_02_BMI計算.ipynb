{
  "nbformat": 4,
  "nbformat_minor": 0,
  "metadata": {
    "colab": {
      "provenance": [],
      "authorship_tag": "ABX9TyMSR4F2QG2rAmYhkeg04sZB",
      "include_colab_link": true
    },
    "kernelspec": {
      "name": "python3",
      "display_name": "Python 3"
    },
    "language_info": {
      "name": "python"
    }
  },
  "cells": [
    {
      "cell_type": "markdown",
      "metadata": {
        "id": "view-in-github",
        "colab_type": "text"
      },
      "source": [
        "<a href=\"https://colab.research.google.com/github/GummyBear-w/aop113b/blob/main/EX01_02_BMI%E8%A8%88%E7%AE%97.ipynb\" target=\"_parent\"><img src=\"https://colab.research.google.com/assets/colab-badge.svg\" alt=\"Open In Colab\"/></a>"
      ]
    },
    {
      "cell_type": "code",
      "execution_count": 4,
      "metadata": {
        "colab": {
          "base_uri": "https://localhost:8080/"
        },
        "id": "kflPqYREK1Kc",
        "outputId": "1df1343a-f30d-47d9-931f-13c4d341ff5d"
      },
      "outputs": [
        {
          "output_type": "stream",
          "name": "stdout",
          "text": [
            "Enter your height(cm): 200\n",
            "Enter your weight(kg): 100\n",
            "Your BMI is:  25.0\n"
          ]
        }
      ],
      "source": [
        "height = float(input('Enter your height(cm): '))\n",
        "weight = float(input('Enter your weight(kg): '))\n",
        "\n",
        "bmi = (weight / (height/100)**2)\n",
        "\n",
        "print('Your BMI is: ', round(bmi, 1))"
      ]
    }
  ]
}