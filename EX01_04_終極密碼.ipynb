{
  "nbformat": 4,
  "nbformat_minor": 0,
  "metadata": {
    "colab": {
      "provenance": [],
      "authorship_tag": "ABX9TyMWB6s1MOR7fq5TWd4ixAAA",
      "include_colab_link": true
    },
    "kernelspec": {
      "name": "python3",
      "display_name": "Python 3"
    },
    "language_info": {
      "name": "python"
    }
  },
  "cells": [
    {
      "cell_type": "markdown",
      "metadata": {
        "id": "view-in-github",
        "colab_type": "text"
      },
      "source": [
        "<a href=\"https://colab.research.google.com/github/GummyBear-w/aop113b/blob/main/EX01_04_%E7%B5%82%E6%A5%B5%E5%AF%86%E7%A2%BC.ipynb\" target=\"_parent\"><img src=\"https://colab.research.google.com/assets/colab-badge.svg\" alt=\"Open In Colab\"/></a>"
      ]
    },
    {
      "cell_type": "code",
      "execution_count": 7,
      "metadata": {
        "colab": {
          "base_uri": "https://localhost:8080/"
        },
        "id": "LmqORjXA2cwV",
        "outputId": "2e325416-9726-415e-a0a1-8ee2726531ba"
      },
      "outputs": [
        {
          "output_type": "stream",
          "name": "stdout",
          "text": [
            "請在 0 到 100 之間猜一個數字\n",
            "請輸入一個數字：999\n",
            "請輸入範圍內的數字\n",
            "請在 0 到 100 之間猜一個數字\n",
            "請輸入一個數字：99\n",
            "請在 0 到 99 之間猜一個數字\n",
            "請輸入一個數字：44\n",
            "請在 0 到 44 之間猜一個數字\n",
            "請輸入一個數字：66\n",
            "請輸入範圍內的數字\n",
            "請在 0 到 44 之間猜一個數字\n",
            "請輸入一個數字：33\n",
            "請在 0 到 33 之間猜一個數字\n",
            "請輸入一個數字：22\n",
            "請在 0 到 22 之間猜一個數字\n",
            "請輸入一個數字：11\n",
            "請在 11 到 22 之間猜一個數字\n",
            "請輸入一個數字：15\n",
            "請在 15 到 22 之間猜一個數字\n",
            "請輸入一個數字：17\n",
            "請在 17 到 22 之間猜一個數字\n",
            "請輸入一個數字：19\n",
            "請在 19 到 22 之間猜一個數字\n",
            "請輸入一個數字：20\n",
            "請在 20 到 22 之間猜一個數字\n",
            "請輸入一個數字：21\n",
            "碰！炸彈爆炸嚕，炸彈是： 21\n"
          ]
        }
      ],
      "source": [
        "import random\n",
        "\n",
        "bomb = random.randint(1, 99)\n",
        "\n",
        "left = 0\n",
        "right = 100\n",
        "\n",
        "while 1:\n",
        "  print('請在', left, '到', right, '之間猜一個數字')\n",
        "  num = int(input('請輸入一個數字：'))\n",
        "  if num <= left or num >= right:\n",
        "    print('請輸入範圍內的數字')\n",
        "    continue\n",
        "  elif num < bomb:\n",
        "    left = num\n",
        "  elif num > bomb:\n",
        "    right = num\n",
        "  elif num == bomb:\n",
        "    break\n",
        "print('碰！炸彈爆炸嚕，炸彈是：', bomb)"
      ]
    }
  ]
}