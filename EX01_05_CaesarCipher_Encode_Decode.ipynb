{
  "nbformat": 4,
  "nbformat_minor": 0,
  "metadata": {
    "colab": {
      "provenance": [],
      "authorship_tag": "ABX9TyMQuOZ0nAaoJ2f7NJkLKYAE",
      "include_colab_link": true
    },
    "kernelspec": {
      "name": "python3",
      "display_name": "Python 3"
    },
    "language_info": {
      "name": "python"
    }
  },
  "cells": [
    {
      "cell_type": "markdown",
      "metadata": {
        "id": "view-in-github",
        "colab_type": "text"
      },
      "source": [
        "<a href=\"https://colab.research.google.com/github/GummyBear-w/aop113b/blob/main/EX01_05_CaesarCipher_Encode_Decode.ipynb\" target=\"_parent\"><img src=\"https://colab.research.google.com/assets/colab-badge.svg\" alt=\"Open In Colab\"/></a>"
      ]
    },
    {
      "cell_type": "code",
      "execution_count": 12,
      "metadata": {
        "colab": {
          "base_uri": "https://localhost:8080/"
        },
        "id": "35E0WCR022-P",
        "outputId": "19555513-df2e-480d-9942-2fb63e153710"
      },
      "outputs": [
        {
          "output_type": "stream",
          "name": "stdout",
          "text": [
            "\n",
            "e11\n",
            "Hello!!??\n",
            "Spwwz,,JJ\n",
            "Try again? (y/n): y\n",
            "\n",
            "d11\n",
            "Spwwz,,JJ\n",
            "Hello!!??\n",
            "Try again? (y/n): y\n",
            "\n",
            "e11111111\n",
            "What's up!\n",
            "謞謯謨謻諮謺諧謼謷諨\n",
            "Try again? (y/n): y\n",
            "\n",
            "d11111111\n",
            "謞謯謨謻諮謺諧謼謷諨\n",
            "What's up!\n",
            "Try again? (y/n): n\n",
            "Bye!\n"
          ]
        }
      ],
      "source": [
        "def shift_all_chars(text, shift):\n",
        "    result = \"\"\n",
        "    for char in text:\n",
        "        new_char = chr((ord(char) + shift) % 65536)  # 65536 是 Unicode 字元範圍\n",
        "        result += new_char\n",
        "    return result\n",
        "\n",
        "while True:\n",
        "\n",
        "  act = input('\\n')\n",
        "  txt = input()\n",
        "\n",
        "  act_type = act[0]\n",
        "  key = int(act[1:])\n",
        "  if act_type == 'd':\n",
        "      key = -key\n",
        "\n",
        "  output = shift_all_chars(txt, key)\n",
        "  print(output)\n",
        "\n",
        "  again = input('Try again? (y/n): ')\n",
        "  if again != 'y':\n",
        "      break\n",
        "\n",
        "print('Bye!')"
      ]
    }
  ]
}