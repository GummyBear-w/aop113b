{
  "nbformat": 4,
  "nbformat_minor": 0,
  "metadata": {
    "colab": {
      "provenance": [],
      "authorship_tag": "ABX9TyP3WM2AKL3/Fw0O2B9U0V5G",
      "include_colab_link": true
    },
    "kernelspec": {
      "name": "python3",
      "display_name": "Python 3"
    },
    "language_info": {
      "name": "python"
    }
  },
  "cells": [
    {
      "cell_type": "markdown",
      "metadata": {
        "id": "view-in-github",
        "colab_type": "text"
      },
      "source": [
        "<a href=\"https://colab.research.google.com/github/GummyBear-w/aop113b/blob/main/EX02_04_Download_Pokemon_Images.ipynb\" target=\"_parent\"><img src=\"https://colab.research.google.com/assets/colab-badge.svg\" alt=\"Open In Colab\"/></a>"
      ]
    },
    {
      "cell_type": "code",
      "execution_count": null,
      "metadata": {
        "id": "9k4-lkWKGbHO"
      },
      "outputs": [],
      "source": [
        "import requests\n",
        "from bs4 import BeautifulSoup"
      ]
    },
    {
      "cell_type": "code",
      "source": [
        "url = 'https://tw.portal-pokemon.com/play/pokedex/0001'\n",
        "\n",
        "response = requests.get(url)\n",
        "response.text"
      ],
      "metadata": {
        "colab": {
          "base_uri": "https://localhost:8080/",
          "height": 178
        },
        "collapsed": true,
        "id": "GN8ikY_Cb74H",
        "outputId": "e4151370-1739-48dd-fd63-4d78d9a3ca31"
      },
      "execution_count": null,
      "outputs": [
        {
          "output_type": "execute_result",
          "data": {
            "text/plain": [
              "'<!doctype html>\\n<html lang=\"zh-cmn-Hant-TW\">\\n    <head prefix=\"og: http://ogp.me/ns# fb: http://ogp.me/ns/fb# website: http://ogp.me/ns/website#\">\\n        <meta charset=\"utf-8\">\\n<meta http-equiv=\"X-UA-Compatible\" content=\"IE=edge\">\\n<meta name=\"viewport\" content=\"width=device-width, initial-scale=1\">\\n<meta name=\"csrf-token\" content=\"\">\\n<title>妙蛙種子 | 寶可夢圖鑑 | The official Pokémon Website in Taiwan</title>\\n<meta name=\"keywords\" content=\"妙蛙種子,寶可夢,寶可夢,Pokemon,寶可夢圖鑑\">\\n<meta name=\"description\" content=\"在出生後的一段時間內，牠會吸收背上種子裡儲存著的營養成長。\">\\n<meta property=\"og:title\" content=\"妙蛙種子 | 寶可夢圖鑑 | The official Pokémon Website in Taiwan\">\\n<meta property=\"og:description\" content=\"在出生後的一段時間內，牠會吸收背上種子裡儲存著的營養成長。\">\\n<meta property=\"og:image\" content=\"https://tw.portal-pokemon.com/play/resources/pokedex/img/pm/cf47f9fac4ed3037ff2a8ea83204e32aff8fb5f3.png\">\\n<meta property=\"og:type\" content=\"article\">\\n<meta property=\"og:site_name\" content=\"The official Pokémon Website in Taiwan\">\\n<meta name=\"twitter:card\" content=\"summary_large_image\">\\n<meta name=\"format-detection\" content=\"telephone=no\">\\n<link rel=\"canonical\" href=\"https://tw.portal-pokemon.com/play/pokedex/0001\">\\n<link rel=\"alternate\" href=\"https://www.pokemon.cn/play/pokedex/0001\" hreflang=\"zh-cn\">\\n<link rel=\"alternate\" href=\"https://tw.portal-pokemon.com/play/pokedex/0001\" hreflang=\"zh-tw\">\\n<link rel=\"alternate\" href=\"https://hk.portal-pokemon.com/play/pokedex/0001\" hreflang=\"zh-hk\">\\n<link rel=\"alternate\" href=\"https://ph.portal-pokemon.com/play/pokedex/0001\" hreflang=\"en-ph\">\\n<link rel=\"alternate\" href=\"https://my.portal-pokemon.com/play/pokedex/0001\" hreflang=\"ms\">\\n<link rel=\"alternate\" href=\"https://in.portal-pokemon.com/play/pokedex/0001\" hreflang=\"en-in\">\\n<link rel=\"alternate\" href=\"https://in-hi.portal-pokemon.com/play/pokedex/0001\" hreflang=\"hi-in\">\\n<link rel=\"alternate\" href=\"https://id.portal-pokemon.com/play/pokedex/0001\" hreflang=\"id\">\\n<link rel=\"alternate\" href=\"https://vn.portal-pokemon.com/play/pokedex/0001\" hreflang=\"vi\">\\n<link rel=\"alternate\" href=\"https://th.portal-pokemon.com/play/pokedex/0001\" hreflang=\"th\">\\n<link rel=\"alternate\" href=\"https://sg.portal-pokemon.com/play/pokedex/0001\" hreflang=\"en-sg\">\\n<link rel=\"alternate\" href=\"https://www.portal-pokemon.com/play/pokedex/0001\" hreflang=\"x-default\">\\n<link rel=\"stylesheet\" href=  \"/css/style.css\"  >\\n<link rel=\"stylesheet\" type=\"text/css\" href=\"/play/resources/pokedex/css/app.css?20230716\">\\n<!-- Google Tag Manager -->\\n<script>(function(w,d,s,l,i){w[l]=w[l]||[];w[l].push({\\'gtm.start\\':\\nnew Date().getTime(),event:\\'gtm.js\\'});var f=d.getElementsByTagName(s)[0],\\nj=d.createElement(s),dl=l!=\\'dataLayer\\'?\\'&l=\\'+l:\\'\\';j.async=true;j.src=\\n\\'https://www.googletagmanager.com/gtm.js?id=\\'+i+dl;f.parentNode.insertBefore(j,f);\\n})(window,document,\\'script\\',\\'dataLayer\\',\\'GTM-554S3MJ\\');</script>\\n<!-- End Google Tag Manager -->\\n    \\n                              <script>!function(e){var n=\"https://s.go-mpulse.net/boomerang/\";if(\"False\"==\"True\")e.BOOMR_config=e.BOOMR_config||{},e.BOOMR_config.PageParams=e.BOOMR_config.PageParams||{},e.BOOMR_config.PageParams.pci=!0,n=\"https://s2.go-mpulse.net/boomerang/\";if(window.BOOMR_API_key=\"LAV5Z-ULDLP-UXV6U-PPFY8-BLJZJ\",function(){function e(){if(!o){var e=document.createElement(\"script\");e.id=\"boomr-scr-as\",e.src=window.BOOMR.url,e.async=!0,i.parentNode.appendChild(e),o=!0}}function t(e){o=!0;var n,t,a,r,d=document,O=window;if(window.BOOMR.snippetMethod=e?\"if\":\"i\",t=function(e,n){var t=d.createElement(\"script\");t.id=n||\"boomr-if-as\",t.src=window.BOOMR.url,BOOMR_lstart=(new Date).getTime(),e=e||d.body,e.appendChild(t)},!window.addEventListener&&window.attachEvent&&navigator.userAgent.match(/MSIE [67]\\\\./))return window.BOOMR.snippetMethod=\"s\",void t(i.parentNode,\"boomr-async\");a=document.createElement(\"IFRAME\"),a.src=\"about:blank\",a.title=\"\",a.role=\"presentation\",a.loading=\"eager\",r=(a.frameElement||a).style,r.width=0,r.height=0,r.border=0,r.display=\"none\",i.parentNode.appendChild(a);try{O=a.contentWindow,d=O.document.open()}catch(_){n=document.domain,a.src=\"javascript:var d=document.open();d.domain=\\'\"+n+\"\\';void(0);\",O=a.contentWindow,d=O.document.open()}if(n)d._boomrl=function(){this.domain=n,t()},d.write(\"<bo\"+\"dy onload=\\'document._boomrl();\\'>\");else if(O._boomrl=function(){t()},O.addEventListener)O.addEventListener(\"load\",O._boomrl,!1);else if(O.attachEvent)O.attachEvent(\"onload\",O._boomrl);d.close()}function a(e){window.BOOMR_onload=e&&e.timeStamp||(new Date).getTime()}if(!window.BOOMR||!window.BOOMR.version&&!window.BOOMR.snippetExecuted){window.BOOMR=window.BOOMR||{},window.BOOMR.snippetStart=(new Date).getTime(),window.BOOMR.snippetExecuted=!0,window.BOOMR.snippetVersion=12,window.BOOMR.url=n+\"LAV5Z-ULDLP-UXV6U-PPFY8-BLJZJ\";var i=document.currentScript||document.getElementsByTagName(\"script\")[0],o=!1,r=document.createElement(\"link\");if(r.relList&&\"function\"==typeof r.relList.supports&&r.relList.supports(\"preload\")&&\"as\"in r)window.BOOMR.snippetMethod=\"p\",r.href=window.BOOMR.url,r.rel=\"preload\",r.as=\"script\",r.addEventListener(\"load\",e),r.addEventListener(\"error\",function(){t(!0)}),setTimeout(function(){if(!o)t(!0)},3e3),BOOMR_lstart=(new Date).getTime(),i.parentNode.appendChild(r);else t(!1);if(window.addEventListener)window.addEventListener(\"load\",a,!1);else if(window.attachEvent)window.attachEvent(\"onload\",a)}}(),\"\".length>0)if(e&&\"performance\"in e&&e.performance&&\"function\"==typeof e.performance.setResourceTimingBufferSize)e.performance.setResourceTimingBufferSize();!function(){if(BOOMR=e.BOOMR||{},BOOMR.plugins=BOOMR.plugins||{},!BOOMR.plugins.AK){var n=\"\"==\"true\"?1:0,t=\"\",a=\"ekiz2idikgryuz6zgnma-f-1492d2ba7-clientnsv4-s.akamaihd.net\",i=\"false\"==\"true\"?2:1,o={\"ak.v\":\"39\",\"ak.cp\":\"648411\",\"ak.ai\":parseInt(\"422210\",10),\"ak.ol\":\"0\",\"ak.cr\":2,\"ak.ipv\":4,\"ak.proto\":\"http/1.1\",\"ak.rid\":\"74d4ec4\",\"ak.r\":41489,\"ak.a2\":n,\"ak.m\":\"b\",\"ak.n\":\"essl\",\"ak.bpcip\":\"34.145.157.0\",\"ak.cport\":51856,\"ak.gh\":\"23.220.106.140\",\"ak.quicv\":\"\",\"ak.tlsv\":\"tls1.3\",\"ak.0rtt\":\"\",\"ak.0rtt.ed\":\"\",\"ak.csrc\":\"-\",\"ak.acc\":\"reno\",\"ak.t\":\"1742287704\",\"ak.ak\":\"hOBiQwZUYzCg5VSAfCLimQ==56lTBe0GhK9THskHA2K+x90owDz8+VeozB6vv5oJ/sUTLnSnm2rX7XU0KceLnCvsa/7E7MrR0IBfcrTO/szHlJ6vDmneE9LPD4qzHP7TPB4fALzjiwCtqAf/4vGunAcSuPD7L6pHbXzEQItki7cz4OKklVhvL7xpMiTKTZmhA3tKLXgANxEcF3xv2G0psdnlBLQ4Bpk8OmJSjJAUrdLjubQHH04TplPG8fAVT2R5Hz5yRASBxWxopqfXewq/FB01QrxWAENcwp8PtxuKJvU5uB7m/ar0+DFMX4d3Rm04UzOLE+AUcN8DEKZ9WYYWVE7Pd7fuLgU4hWyvuF2ry/m2vtHjLfvkWQa33TpkMyAH7thCBzUQYrQSIm1OqivfpDzwnbIAXagNNDkzbf7fnQCuAQCpB/odvgXF2kipNTq2fZ8=\",\"ak.pv\":\"39\",\"ak.dpoabenc\":\"\",\"ak.tf\":i};if(\"\"!==t)o[\"ak.ruds\"]=t;var r={i:!1,av:function(n){var t=\"http.initiator\";if(n&&(!n[t]||\"spa_hard\"===n[t]))o[\"ak.feo\"]=void 0!==e.aFeoApplied?1:0,BOOMR.addVar(o)},rv:function(){var e=[\"ak.bpcip\",\"ak.cport\",\"ak.cr\",\"ak.csrc\",\"ak.gh\",\"ak.ipv\",\"ak.m\",\"ak.n\",\"ak.ol\",\"ak.proto\",\"ak.quicv\",\"ak.tlsv\",\"ak.0rtt\",\"ak.0rtt.ed\",\"ak.r\",\"ak.acc\",\"ak.t\",\"ak.tf\"];BOOMR.removeVar(e)}};BOOMR.plugins.AK={akVars:o,akDNSPreFetchDomain:a,init:function(){if(!r.i){var e=BOOMR.subscribe;e(\"before_beacon\",r.av,null,null),e(\"onbeacon\",r.rv,null,null),r.i=!0}return this},is_complete:function(){return!0}}}}()}(window);</script></head>\\n    <body data-region=\"tw\">\\n                <!-- Google Tag Manager (noscript) -->\\n        <noscript><iframe src=\"https://www.googletagmanager.com/ns.html?id=GTM-554S3MJ\"\\n        height=\"0\" width=\"0\" style=\"display:none;visibility:hidden\"></iframe></noscript>\\n        <!-- End Google Tag Manager (noscript) -->\\n                <header class=\"global-header\" role=\"banner\">\\n\\t\\t<div class=\"global-header__body\">\\n\\t\\t\\t<div class=\"global-header__title\">\\n            <h1 class=\"global-header__site-name\"><a href=\"/\"><img src=\"/img/common/logo.png\" alt=\"Pokemon\" width=\"130\"></a></h1>\\n\\t\\t\\t</div>\\n\\t\\t\\t<nav class=\"nav-global\" role=\"navigation\">\\n\\t\\t\\t\\t<div class=\"nav-global__body\">\\n\\t\\t\\t\\t\\t<ul class=\"nav-global__list\">\\n                        <li class=\"nav-global__item\"><a class=\"nav-global__item--anime\" href=\"/anime/\"><span>電視動畫系列</span></a></li>\\n                        <li class=\"nav-global__item\"><a class=\"nav-global__item--movie\" href=\"/movie/\"><span>電影</span></a></li>\\n                        <li class=\"nav-global__item\"><a class=\"nav-global__item--goods\" href=\"/goods/\"><span>商品</span></a></li>\\n                        <li class=\"nav-global__item\"><a class=\"nav-global__item--app\" href=\"/apps/\"><span>應用程式</span></a></li>\\n                        <li class=\"nav-global__item\"><a class=\"nav-global__item--game\" href=\"/game/\"><span>遊戲</span></a></li>\\n                        <li class=\"nav-global__item\"><a class=\"nav-global__item--event\" href=\"/event/\"><span>活動</span></a></li>\\n                        <li class=\"nav-global__item nav-global__item--blank\"><a class=\"nav-global__item--card\" href=\"https://asia.pokemon-card.com/tw/\" target=\"_blank\"><span>卡牌遊戲</span></a></li>\\n                        <li class=\"nav-global__item nav-global__item--what\"><a href=\"/play/pokedex\"><span>寶可夢圖鑑</span></a></li>\\n\\t\\t\\t\\t\\t</ul>\\n\\t\\t\\t\\t\\t<div class=\"global-header__sp-close visible-xs\">\\n\\t\\t\\t\\t\\t\\t<button>\\n\\t\\t\\t\\t\\t\\t\\t<span>Close</span>\\n\\t\\t\\t\\t\\t\\t</button>\\n\\t\\t\\t\\t\\t</div>\\n\\t\\t\\t\\t</div>\\n\\t\\t\\t</nav>\\n\\t\\t</div>\\n\\t\\t<div class=\"global-header__sp-menu visible-xs\">\\n\\t\\t\\t<button>\\n\\t\\t\\t\\t<span></span>\\n\\t\\t\\t\\t<span></span>\\n\\t\\t\\t\\t<span></span>\\n\\t\\t\\t</button>\\n\\t\\t</div>\\n\\t</header>\\n                <div class=\"contents pokemon-detail-contents\" data-max-status=\"15\" data-zukanid=\"0001\" data-zukansubid=\"0\">\\n    <div class=\"pokemon-detail\">\\n        <div class=\"pokemon-detail__header\">\\n            <div class=\"pokemon-detail__header__inner\">\\n                <span class=\"size-20\"><a class=\"pokemon-detail__header__back-to-top\" href=\"/play/pokedex\">寶可夢圖鑑</a></span>\\n            </div>\\n        </div>\\n        <div class=\"pokemon-detail__slider\">\\n            <div class=\"pokemon-slider\">\\n                                    <div class=\"pokemon-slider__wrapper pokemon-slider__wrapper--left non-visible\">\\n                                </div>\\n                <div class=\"pokemon-slider__main\">\\n                    <p class=\"pokemon-slider__main-no size-28\">0001</p>\\n                    <p class=\"pokemon-slider__main-name size-35\">妙蛙種子</p>\\n                    <p class=\"pokemon-slider__main-subname size-20\"></p>\\n                </div>\\n                                                        <div class=\"pokemon-slider__wrapper pokemon-slider__wrapper--right\">\\n                        <a href=\"/play/pokedex/0002\">\\n                                            <img class=\"pokemon-slider__arrow pokemon-slider__arrow--right hover_image\" src=\"/play/resources/pokedex/img/arrow_right_btn.png\">\\n                    </a>\\n                    <span class=\"pokemon-slider__sub-name pokemon-slider__sub-name--right size-15\">妙蛙草</span>\\n                    <span class=\"pokemon-slider__sub-no pokemon-slider__sub-no--right size-14\">0002</span>\\n                                </div>\\n            </div>\\n        </div>\\n        <div class=\"pokemon-detail__profile\">\\n            <div class=\"pokemon-main\">\\n                <div class=\"pokemon-main__center\">\\n                    <div class=\"pokemon-img\">\\n                        <img class=\"pokemon-img__back\" src=\"/play/resources/pokedex/img/pokemon_bg.png\">\\n                        <img class=\"pokemon-img__blur\" src=\"/play/resources/pokedex/img/pokemon_circle_bg.png\">\\n                        <img class=\"pokemon-img__front\" src=\"/play/resources/pokedex/img/pm/cf47f9fac4ed3037ff2a8ea83204e32aff8fb5f3.png\">\\n                    </div>\\n                </div>\\n                <div class=\"pokemon-main__upper-left\">\\n                    <div class=\"pokemon-type__title size-20\">屬性</div>\\n                        <div class=\"pokemon-type\">\\n\\n                                                                                                                         <div class=\"pokemon-type__type pokemon-type__type--grass pokemon-type__type--has_second size-14\">\\n                                        <a href=\"/play/pokedex/grass#result\">\\n                                            <span>草</span>\\n                                        </a>\\n                                    </div>\\n                                                                                                                                <div class=\"pokemon-type__type pokemon-type__type--poison pokemon-type__type--second size-14\">\\n                                        <a href=\"/play/pokedex/poison#result\">\\n                                        <span>毒</span>\\n                                        </a>\\n                                    </div>\\n                                                                                                         </div>\\n                </div>\\n                <div class=\"pokemon-main__bottom-left\">\\n                    <div class=\"pokemon-weakness__title size-20\">弱點</div>\\n                    <div class=\"pokemon-weakness\">\\n                        <div class=\"pokemon-weakness__items\">\\n                                                                                                            <div class=\"pokemon-weakness__btn pokemon-weakness__btn--fire size-14\">\\n                                    <a href=\"/play/pokedex/fire#result\">\\n                                        <!-- <span>火</span> -->\\n                                        <span>火</span>\\n                                    </a>\\n                                </div>\\n                                                                                                                                            <div class=\"pokemon-weakness__btn pokemon-weakness__btn--ice size-14\">\\n                                    <a href=\"/play/pokedex/ice#result\">\\n                                        <!-- <span>冰</span> -->\\n                                        <span>冰</span>\\n                                    </a>\\n                                </div>\\n                                                                                                                                            <div class=\"pokemon-weakness__btn pokemon-weakness__btn--flying pokemon-weakness__btn--second-line size-14\">\\n                                    <a href=\"/play/pokedex/flying#result\">\\n                                        <!-- <span>飛行</span> -->\\n                                        <span>飛行</span>\\n                                    </a>\\n                                </div>\\n                                                                                                                                            <div class=\"pokemon-weakness__btn pokemon-weakness__btn--psychic pokemon-weakness__btn--second-line size-14\">\\n                                    <a href=\"/play/pokedex/psychic#result\">\\n                                        <!-- <span>超能力</span> -->\\n                                        <span>超能力</span>\\n                                    </a>\\n                                </div>\\n                                                                                                        </div>\\n                    </div>\\n                </div>\\n                <div class=\"pokemon-main__right\">\\n                    <div class=\"pokemon-info\" v-cloak>\\n                        <transition name=\"pokemon-info__fade\">\\n                            <div class=\"pokemon-info--inner\" v-if=\"!ability_info_f && !ability_info_s && !ability_info_t\">\\n                                <div class=\"pokemon-info__height\">\\n                                    <span class=\"pokemon-info__title size-14\">身高</span>\\n                                                                    <span class=\"pokemon-info__value size-14\">0.7 m</span>\\n                                                                </div>\\n                                <div class=\"pokemon-info__category\">\\n                                    <span class=\"pokemon-info__title size-14\">分類</span>\\n                                    <span class=\"pokemon-info__value size-14\"><span>種子寶可夢</span></span>\\n                                </div>\\n                                <div class=\"pokemon-info__weight\">\\n                                    <span class=\"pokemon-info__title size-14\">體重</span>\\n                                                                    <span class=\"pokemon-info__value size-14\">6.9 kg</span>\\n                                                                </div>\\n                                <div class=\"pokemon-info__gender\">\\n                                    <span class=\"pokemon-info__title size-14\">性別</span>\\n                                    <span class=\"pokemon-info__value size-14\">\\n                                                                                    <img class=\"pokemon-info__gender-icon\" src=\"/play/resources/pokedex/img/icon_male.png\" alt=\"\">\\n                                            <span class=\"pokemon-info__gender-separator\">/</span>\\n                                            <img class=\"pokemon-info__gender-icon\" src=\"/play/resources/pokedex/img/icon_female.png\" alt=\"\">\\n                                                                            </span>\\n                                </div>\\n                                                                <div class=\"pokemon-info__abilities\">\\n                                    <span class=\"pokemon-info__title size-14\">特性</span>\\n                                                                                                                <span class=\"pokemon-info__value size-14\">\\n                                            茂盛\\n                                                                                        <img class=\"pokemon-info__question-icon\" src=\"/play/resources/pokedex/img/icon_question.png\" v-on:click=\"showAbilityText(0, true)\">\\n                                                                                    </span>\\n                                                                                                            </div>\\n                                                            </div>\\n                        </transition>\\n                                                <transition name=\"pokemon-info__fade\">\\n                                                                                    <div class=\"pokemon-info__ability_info\" v-if=\"ability_info_f\" v-show=\"id === 0\">\\n                                                                <span class=\"pokemon-info__title size-14\">特性</span>\\n                                    <img class=\"pokemon-info__ability_info--close_btn\" src=\"/play/resources/pokedex/img/close_btn.png\" v-on:click=\"showAbilityText(0, false)\">\\n                                        <span class=\"pokemon-info__value pokemon-info__value--title size-18\">茂盛</span>\\n                                        <span class=\"pokemon-info__value pokemon-info__value--body size-14\"><span>ＨＰ減少的時候，草屬性的招式威力會提高。</span></span>\\n                                </div>\\n                                                                                </transition>\\n                    </div>\\n                </div>\\n            </div>\\n        </div>\\n        <div class=\"pokemon-detail__stats\">\\n            <div class=\"pokemon-stats\">\\n                <div class=\"pokemon-stats__story-wrapper\">\\n                    <div class=\"pokemon-stats__story-inner\">\\n                        <div class=\"pokemon-story\" v-cloak data-init-disp-story=\"1\">\\n                            <div class=\"pokemon-story__header\">\\n                                <span class=\"pokemon-story__title size-20\">圖鑑版本</span>\\n                                <div class=\"pokemon-story__icon-wrapper\">\\n                                <img class=\"pokemon-story__icon\" :src=\"ballImage1\" alt=\"\" @click=\"setStory(1)\">                                <img class=\"pokemon-story__icon\" :src=\"ballImage2\" alt=\"\" @click=\"setStory(2)\">                                                                </div>\\n                            </div>\\n                                                        <p class=\"pokemon-story__body size-14\" v-if=\"storyNumber === 1\">\\n                                <span>在出生後的一段時間內，牠會吸收背上種子裡儲存著的營養成長。</span>\\n                            </p>\\n                                                                                    <p class=\"pokemon-story__body size-14\" v-if=\"storyNumber === 2\">\\n                                <span>從出生的時候開始背上就背著一顆種子。隨著身體長大，種子也會跟著變大。</span>\\n                            </p>\\n                                                                                </div>\\n                    </div>\\n                </div>\\n                <div class=\"pokemon-stats__status-wrapper\">\\n                    <div class=\"pokemon-stats__title size-20\">\\n                        <span>能力</span>\\n                    </div>\\n                    <div class=\"pokemon-stats__wrapper-status\">\\n                        <div class=\"pokemon-status__block\">\\n                            <div class=\"pokemon-status\">\\n                                <div class=\"pokemon-status__scale-box\">\\n                        <span class=\"pokemon-status__scale\"></span>\\n                                <span class=\"pokemon-status__scale\"></span>\\n                                <span class=\"pokemon-status__scale\"></span>\\n                                <span class=\"pokemon-status__scale\"></span>\\n                                <span class=\"pokemon-status__scale\"></span>\\n                                <span class=\"pokemon-status__scale\"></span>\\n                                <span class=\"pokemon-status__scale\"></span>\\n                                <span class=\"pokemon-status__scale\"></span>\\n                                <span class=\"pokemon-status__scale\"></span>\\n                                <span class=\"pokemon-status__scale\"></span>\\n                                <span class=\"pokemon-status__scale\"></span>\\n                                <span class=\"pokemon-status__scale\"></span>\\n                                <span class=\"pokemon-status__scale d3\" v-bind:class=\"{ appear: isAppear }\"></span>\\n                                <span class=\"pokemon-status__scale d2\" v-bind:class=\"{ appear: isAppear }\"></span>\\n                                <span class=\"pokemon-status__scale d1\" v-bind:class=\"{ appear: isAppear }\"></span>\\n            </div>                                <div class=\"pokemon-status__title size-10\"><span>HP</span></div>\\n                            </div>\\n                            <div class=\"pokemon-status\">\\n                                <div class=\"pokemon-status__scale-box\">\\n                        <span class=\"pokemon-status__scale\"></span>\\n                                <span class=\"pokemon-status__scale\"></span>\\n                                <span class=\"pokemon-status__scale\"></span>\\n                                <span class=\"pokemon-status__scale\"></span>\\n                                <span class=\"pokemon-status__scale\"></span>\\n                                <span class=\"pokemon-status__scale\"></span>\\n                                <span class=\"pokemon-status__scale\"></span>\\n                                <span class=\"pokemon-status__scale\"></span>\\n                                <span class=\"pokemon-status__scale\"></span>\\n                                <span class=\"pokemon-status__scale\"></span>\\n                                <span class=\"pokemon-status__scale\"></span>\\n                                <span class=\"pokemon-status__scale\"></span>\\n                                <span class=\"pokemon-status__scale d3\" v-bind:class=\"{ appear: isAppear }\"></span>\\n                                <span class=\"pokemon-status__scale d2\" v-bind:class=\"{ appear: isAppear }\"></span>\\n                                <span class=\"pokemon-status__scale d1\" v-bind:class=\"{ appear: isAppear }\"></span>\\n            </div>                                <div class=\"pokemon-status__title size-10\"><span>攻擊</span></div>\\n                            </div>\\n                            <div class=\"pokemon-status\">\\n                                <div class=\"pokemon-status__scale-box\">\\n                        <span class=\"pokemon-status__scale\"></span>\\n                                <span class=\"pokemon-status__scale\"></span>\\n                                <span class=\"pokemon-status__scale\"></span>\\n                                <span class=\"pokemon-status__scale\"></span>\\n                                <span class=\"pokemon-status__scale\"></span>\\n                                <span class=\"pokemon-status__scale\"></span>\\n                                <span class=\"pokemon-status__scale\"></span>\\n                                <span class=\"pokemon-status__scale\"></span>\\n                                <span class=\"pokemon-status__scale\"></span>\\n                                <span class=\"pokemon-status__scale\"></span>\\n                                <span class=\"pokemon-status__scale\"></span>\\n                                <span class=\"pokemon-status__scale\"></span>\\n                                <span class=\"pokemon-status__scale d3\" v-bind:class=\"{ appear: isAppear }\"></span>\\n                                <span class=\"pokemon-status__scale d2\" v-bind:class=\"{ appear: isAppear }\"></span>\\n                                <span class=\"pokemon-status__scale d1\" v-bind:class=\"{ appear: isAppear }\"></span>\\n            </div>                                <div class=\"pokemon-status__title size-10\"><span>防禦</span></div>\\n                            </div>\\n                        </div>\\n                        <div class=\"pokemon-status__block\">\\n                            <div class=\"pokemon-status\">\\n                                <div class=\"pokemon-status__scale-box\">\\n                        <span class=\"pokemon-status__scale\"></span>\\n                                <span class=\"pokemon-status__scale\"></span>\\n                                <span class=\"pokemon-status__scale\"></span>\\n                                <span class=\"pokemon-status__scale\"></span>\\n                                <span class=\"pokemon-status__scale\"></span>\\n                                <span class=\"pokemon-status__scale\"></span>\\n                                <span class=\"pokemon-status__scale\"></span>\\n                                <span class=\"pokemon-status__scale\"></span>\\n                                <span class=\"pokemon-status__scale\"></span>\\n                                <span class=\"pokemon-status__scale\"></span>\\n                                <span class=\"pokemon-status__scale\"></span>\\n                                <span class=\"pokemon-status__scale d4\" v-bind:class=\"{ appear: isAppear }\"></span>\\n                                <span class=\"pokemon-status__scale d3\" v-bind:class=\"{ appear: isAppear }\"></span>\\n                                <span class=\"pokemon-status__scale d2\" v-bind:class=\"{ appear: isAppear }\"></span>\\n                                <span class=\"pokemon-status__scale d1\" v-bind:class=\"{ appear: isAppear }\"></span>\\n            </div>                                <div class=\"pokemon-status__title size-10\"><span>特攻</span></div>\\n                            </div>\\n                            <div class=\"pokemon-status\">\\n                                <div class=\"pokemon-status__scale-box\">\\n                        <span class=\"pokemon-status__scale\"></span>\\n                                <span class=\"pokemon-status__scale\"></span>\\n                                <span class=\"pokemon-status__scale\"></span>\\n                                <span class=\"pokemon-status__scale\"></span>\\n                                <span class=\"pokemon-status__scale\"></span>\\n                                <span class=\"pokemon-status__scale\"></span>\\n                                <span class=\"pokemon-status__scale\"></span>\\n                                <span class=\"pokemon-status__scale\"></span>\\n                                <span class=\"pokemon-status__scale\"></span>\\n                                <span class=\"pokemon-status__scale\"></span>\\n                                <span class=\"pokemon-status__scale\"></span>\\n                                <span class=\"pokemon-status__scale d4\" v-bind:class=\"{ appear: isAppear }\"></span>\\n                                <span class=\"pokemon-status__scale d3\" v-bind:class=\"{ appear: isAppear }\"></span>\\n                                <span class=\"pokemon-status__scale d2\" v-bind:class=\"{ appear: isAppear }\"></span>\\n                                <span class=\"pokemon-status__scale d1\" v-bind:class=\"{ appear: isAppear }\"></span>\\n            </div>                                <div class=\"pokemon-status__title size-10\"><span>特防</span></div>\\n                            </div>\\n                            <div class=\"pokemon-status\">\\n                                <div class=\"pokemon-status__scale-box\">\\n                        <span class=\"pokemon-status__scale\"></span>\\n                                <span class=\"pokemon-status__scale\"></span>\\n                                <span class=\"pokemon-status__scale\"></span>\\n                                <span class=\"pokemon-status__scale\"></span>\\n                                <span class=\"pokemon-status__scale\"></span>\\n                                <span class=\"pokemon-status__scale\"></span>\\n                                <span class=\"pokemon-status__scale\"></span>\\n                                <span class=\"pokemon-status__scale\"></span>\\n                                <span class=\"pokemon-status__scale\"></span>\\n                                <span class=\"pokemon-status__scale\"></span>\\n                                <span class=\"pokemon-status__scale\"></span>\\n                                <span class=\"pokemon-status__scale\"></span>\\n                                <span class=\"pokemon-status__scale d3\" v-bind:class=\"{ appear: isAppear }\"></span>\\n                                <span class=\"pokemon-status__scale d2\" v-bind:class=\"{ appear: isAppear }\"></span>\\n                                <span class=\"pokemon-status__scale d1\" v-bind:class=\"{ appear: isAppear }\"></span>\\n            </div>                                <div class=\"pokemon-status__title size-10\"><span>速度</span></div>\\n                            </div>\\n                        </div>\\n                    </div>\\n                </div>\\n            </div>\\n        </div>\\n\\n        <div class=\"pokemon-detail__style\">\\n            <div class=\"pokemon-style__title size-20\">\\n                <span>樣子</span>\\n            </div>\\n            \\n                            <div class=\"pokemon-style pokemon-style--empty\">\\n        <div class=\"pokemon-style__boxes-wrapper\">\\n            <div class=\"pokemon-style__boxes\">\\n                <div class=\"pokemon-style__boxes-inner\">\\n                                                                        <span class=\"size-14\">沒有不同的樣子</span>\\n                                                            </div>\\n            </div>\\n        </div>\\n    </div>                    </div>\\n        <div class=\"pokemon-detail__evolutions\">\\n        <div class=\"pokemon-evolution bg-x-22 pokemon-evolution--3\\npokemon-evolution--h\\n\" data-evolutionid=\"1\">\\n        <div class=\"pokemon-evolution__inner innerNormalStyle innerSimpleStyle\">\\n            <div class=\"pokemon-evolution__title size-20\">\\n            <span>進化</span>\\n        </div>\\n        <div class=\"pokemon-evolution-contents\">\\n            <div class=\"pokemon-evolution-contents_flow\">\\n                                        <div class=\"pokemon-evolutionlevel\">\\n                                                                                                                                                                                                                                                <div class=\"pokemon-evolution-itembox\">\\n                                                                                                    <a href=\"/play/pokedex/0001\">\\n                                                                    \\n                                                                        <div class=\"pokemon-evolution-item__image\">\\n                                        <img class=\"pokemon-evolution-box__image\" src=\"/play/resources/pokedex/img/pm/cf47f9fac4ed3037ff2a8ea83204e32aff8fb5f3.png\">\\n                                    </div>\\n                                    <div class=\"pokemon-evolution-item__info\">\\n                                                                            <p class=\"pokemon-evolution-box__no size-14\">0001</p>\\n                                        <p class=\"pokemon-evolution-item__info-name size-14\">妙蛙種子</p>\\n                                        <p class=\"pokemon-evolution-item__info-subname size-10\"></p>\\n                                        <div class=\"pokemon-evolution-box__types\">\\n                                                                                                                                                <div class=\"pokemon-evolution-item__info-type pokemon-evolution-box__type--grass size-12\">\\n                                                        <div><span>草</span></div>\\n                                                    </div>\\n                                                                                                    <div class=\"pokemon-evolution-item__info-type pokemon-evolution-box__type--poison size-12\">\\n                                                        <div><span>毒</span></div>\\n                                                    </div>\\n                                                                                                                                    </div>\\n                                    </div>\\n                                                                                                </a>\\n                            \\n                                                                                                                                                                                                                                                                                                                                                                <div class=\"pokemon-evolution-item__narrow\" data-label-evolutionless=\"不會進化\">\\n                                                                            <div class=\"pokemon-evolution__arrow-wrapper\">\\n                                            <img class=\"pokemon-evolution__arrow\" src=\"/play/resources/pokedex/img/arrow_down.png\">\\n                                        </div>\\n                                    </div>\\n                                                                                        </div>\\n                                                                                        </div>\\n                                            <div class=\"pokemon-evolutionlevel\">\\n                                                                                                                                                                                                                                                <div class=\"pokemon-evolution-itembox\">\\n                                                                                                    <a href=\"/play/pokedex/0002\">\\n                                                                    \\n                                                                        <div class=\"pokemon-evolution-item__image\">\\n                                        <img class=\"pokemon-evolution-box__image\" src=\"/play/resources/pokedex/img/pm/3245e4f8c04aa0619cb31884dbf123c6918b3700.png\">\\n                                    </div>\\n                                    <div class=\"pokemon-evolution-item__info\">\\n                                                                            <p class=\"pokemon-evolution-box__no size-14\">0002</p>\\n                                        <p class=\"pokemon-evolution-item__info-name size-14\">妙蛙草</p>\\n                                        <p class=\"pokemon-evolution-item__info-subname size-10\"></p>\\n                                        <div class=\"pokemon-evolution-box__types\">\\n                                                                                                                                                <div class=\"pokemon-evolution-item__info-type pokemon-evolution-box__type--grass size-12\">\\n                                                        <div><span>草</span></div>\\n                                                    </div>\\n                                                                                                    <div class=\"pokemon-evolution-item__info-type pokemon-evolution-box__type--poison size-12\">\\n                                                        <div><span>毒</span></div>\\n                                                    </div>\\n                                                                                                                                    </div>\\n                                    </div>\\n                                                                                                </a>\\n                            \\n                                                                                                                                                                                                                                                                                                                                                                <div class=\"pokemon-evolution-item__narrow\" data-label-evolutionless=\"不會進化\">\\n                                                                            <div class=\"pokemon-evolution__arrow-wrapper\">\\n                                            <img class=\"pokemon-evolution__arrow\" src=\"/play/resources/pokedex/img/arrow_down.png\">\\n                                        </div>\\n                                    </div>\\n                                                                                        </div>\\n                                                                                        </div>\\n                                            <div class=\"pokemon-evolutionlevel\">\\n                                                                                                                                                                                                                                                <div class=\"pokemon-evolution-itembox\">\\n                                                                                                    <a href=\"/play/pokedex/0003\">\\n                                                                    \\n                                                                        <div class=\"pokemon-evolution-item__image\">\\n                                        <img class=\"pokemon-evolution-box__image\" src=\"/play/resources/pokedex/img/pm/0186d64c5773c8d3d03cd05dc79574b2d2798d4f.png\">\\n                                    </div>\\n                                    <div class=\"pokemon-evolution-item__info\">\\n                                                                            <p class=\"pokemon-evolution-box__no size-14\">0003</p>\\n                                        <p class=\"pokemon-evolution-item__info-name size-14\">妙蛙花</p>\\n                                        <p class=\"pokemon-evolution-item__info-subname size-10\"></p>\\n                                        <div class=\"pokemon-evolution-box__types\">\\n                                                                                                                                                <div class=\"pokemon-evolution-item__info-type pokemon-evolution-box__type--grass size-12\">\\n                                                        <div><span>草</span></div>\\n                                                    </div>\\n                                                                                                    <div class=\"pokemon-evolution-item__info-type pokemon-evolution-box__type--poison size-12\">\\n                                                        <div><span>毒</span></div>\\n                                                    </div>\\n                                                                                                                                    </div>\\n                                    </div>\\n                                                                                                </a>\\n                            \\n                                                                                                                                                </div>\\n                                                                                        </div>\\n                                    </div>\\n        </div>\\n    </div>\\n</div>\\n        </div>\\n\\n        \\n        <div class=\"pokemon-detail__sns\">\\n            <div class=\"article-sns\">\\n                <ul class=\"article-sns__body\">\\n                                            <li class=\"article-sns__element\">\\n                            <a href=\"http://www.facebook.com/share.php?u=https%3A%2F%2Ftw.portal-pokemon.com%2Fplay%2Fpokedex%2F0001\" target=\"_blank\">\\n                                <img src=\"/play/resources/pokedex/img/icon_share-facebook.png\" width=\"30\" alt=\"Facebook\">\\n                            </a>\\n                        </li>\\n                        <li class=\"article-sns__element\">\\n                            <a href=\"http://twitter.com/share?url=https%3A%2F%2Ftw.portal-pokemon.com%2Fplay%2Fpokedex%2F0001\" rel=\"nofollow\" target=\"_blank\">\\n                                <img src=\"/play/resources/pokedex/img/icon_share-twitter.png\" width=\"30\" alt=\"Twitter\">\\n                            </a>\\n                        </li>\\n                                    </ul>\\n            </div>\\n        </div>\\n        <div class=\"pokemon-detail__back-to-top\">\\n            <div class=\"pokemon-back-to-top\">\\n                <a href=\"/play/pokedex\">\\n                    <div class=\"pokemon-back-to-top__button size-14\">\\n                        <span>返回Pokédex</span>\\n                    </div>\\n                </a>\\n            </div>\\n        </div>\\n    </div>\\n</div>\\n\\n        <div id=\"footer\"></div>\\n\\n    <script src=\"/play/resources/pokedex/js/app.js?20220707\"></script>\\n    <script src=\"/play/resources/pokedex/js/pokemon-detail.js?20220707\"></script>\\n<script src=  \"/js/baser.min.js\"  ></script>\\n<script src=  \"/js/slick.min.js\"  ></script>\\n<script src=  \"/js/script_common.js\"  ></script>\\n\\n    </body>\\n</html>\\n'"
            ],
            "application/vnd.google.colaboratory.intrinsic+json": {
              "type": "string"
            }
          },
          "metadata": {},
          "execution_count": 2
        }
      ]
    },
    {
      "cell_type": "code",
      "source": [
        "soup = BeautifulSoup(response.text, 'lxml')"
      ],
      "metadata": {
        "id": "Mw1mrzbucJW4"
      },
      "execution_count": null,
      "outputs": []
    },
    {
      "cell_type": "code",
      "source": [
        "img_url = 'https://tw.portal-pokemon.com' + soup.find('img', class_='pokemon-img__front')['src']\n",
        "img = requests.get(img_url)\n",
        "with open('0001.png', 'wb') as f:\n",
        "    f.write(img.content)"
      ],
      "metadata": {
        "id": "vR571tc_cQzF"
      },
      "execution_count": null,
      "outputs": []
    },
    {
      "cell_type": "code",
      "source": [
        "for i in range(1, 11):\n",
        "    id = f'{i:04}'\n",
        "    url = f'https://tw.portal-pokemon.com/play/pokedex/{id}'\n",
        "    response = requests.get(url)\n",
        "    soup = BeautifulSoup(response.text, 'lxml')\n",
        "    img_src = soup.find('img', class_='pokemon-img__front')['src']\n",
        "    img_url = 'https://tw.portal-pokemon.com' + img_src\n",
        "    img = requests.get(img_url)\n",
        "    with open (f'/content/pokemon/{id}.png', 'wb') as f:\n",
        "        f.write(img.content)"
      ],
      "metadata": {
        "id": "7171RfLhcr8X"
      },
      "execution_count": null,
      "outputs": []
    },
    {
      "cell_type": "markdown",
      "source": [
        "**也許你想知道 我喜歡這些寶可夢ㄡ**"
      ],
      "metadata": {
        "id": "moCrDMByvWu6"
      }
    },
    {
      "cell_type": "code",
      "source": [
        "!pip install gradio -q"
      ],
      "metadata": {
        "id": "RpW7b9O1wQFc"
      },
      "execution_count": null,
      "outputs": []
    },
    {
      "cell_type": "code",
      "source": [
        "import gradio as gr\n",
        "import requests\n",
        "from bs4 import BeautifulSoup\n",
        "\n",
        "# 指定的寶可夢編號與對應的名稱（這裡可以擴充）\n",
        "pokemon_dict = {\n",
        "    \"129\": \"鯉魚王\",\n",
        "    \"282\": \"沙奈朵\",\n",
        "    \"700\": \"仙子伊布\",\n",
        "    \"702\": \"咚咚鼠\",\n",
        "    \"704\": \"黏黏寶\",\n",
        "    \"722\": \"木木梟\",\n",
        "    \"763\": \"甜冷美后\",\n",
        "    \"963\": \"波普海豚\",\n",
        "    \"978\": \"米立龍\"\n",
        "}\n",
        "\n",
        "# 預設圖片（當抓不到寶可夢圖片時顯示）\n",
        "DEFAULT_IMAGE_URL = \"https://upload.wikimedia.org/wikipedia/commons/9/98/International_Pokémon_logo.svg\"\n",
        "\n",
        "# 爬取寶可夢資料\n",
        "def get_pokemon_info(pokemon_id):\n",
        "    url = f'https://tw.portal-pokemon.com/play/pokedex/{pokemon_id}'\n",
        "    headers = {\"User-Agent\": \"Mozilla/5.0\"}  # 避免被網站封鎖\n",
        "    response = requests.get(url, headers=headers)\n",
        "\n",
        "    if response.status_code != 200:\n",
        "        return \"找不到資料\", DEFAULT_IMAGE_URL\n",
        "\n",
        "    soup = BeautifulSoup(response.text, 'lxml')\n",
        "\n",
        "    # 取得描述\n",
        "    description_tag = soup.find('p', class_='pokemon-story__body')\n",
        "    description = description_tag.text.strip() if description_tag else \"無法獲取描述\"\n",
        "\n",
        "    # 取得圖片 URL\n",
        "    img_tag = soup.find('img', class_='pokemon-img__front')\n",
        "    img_url = 'https://tw.portal-pokemon.com' + img_tag['src'] if img_tag and img_tag.has_attr('src') else DEFAULT_IMAGE_URL\n",
        "\n",
        "    # 屬性跟弱點只保留中文字\n",
        "\n",
        "    types_tag = soup.find_all('div', class_='pokemon-type__type')\n",
        "    types = ', '.join([t.text.strip() for t in types_tag]) if types_tag else \"無法獲取屬性\"\n",
        "\n",
        "    weaknesses_tag = soup.find_all('div', class_='pokemon-weakness__btn')\n",
        "    weaknesses = ', '.join([w.text.strip() for w in weaknesses_tag]) if weaknesses_tag else \"無法獲取弱點\"\n",
        "\n",
        "    return description, img_url, types, weaknesses\n",
        "\n",
        "# Gradio 介面函數\n",
        "def show_pokemon(pokemon_name):\n",
        "    if not pokemon_name:\n",
        "        return \"請選擇寶可夢\", DEFAULT_IMAGE_URL\n",
        "\n",
        "    pokemon_id = next((k for k, v in pokemon_dict.items() if v == pokemon_name), None)\n",
        "\n",
        "    if not pokemon_id:\n",
        "        return \"無法找到該寶可夢\", DEFAULT_IMAGE_URL\n",
        "\n",
        "    return get_pokemon_info(pokemon_id)"
      ],
      "metadata": {
        "id": "coZbTNJm6fOd"
      },
      "execution_count": null,
      "outputs": []
    },
    {
      "cell_type": "code",
      "source": [
        "with gr.Blocks() as demo:\n",
        "    gr.Markdown(\"## 🏆 寶可夢資料查詢\")\n",
        "\n",
        "    with gr.Row():\n",
        "        # 左邊是選擇框\n",
        "        with gr.Column(scale=1):\n",
        "            pokemon_name = gr.Dropdown(\n",
        "                choices=[\"請選擇寶可夢\"] + list(pokemon_dict.values()),  # 第一個選項為提示\n",
        "                label=\"選擇寶可夢\",\n",
        "                value=\"請選擇寶可夢\",  # 預設為提示文字\n",
        "                interactive=True\n",
        "            )\n",
        "\n",
        "        # 右邊顯示結果\n",
        "        with gr.Column(scale=2):\n",
        "            output_text = gr.Textbox(label=\"描述\", value=\"請選擇寶可夢以查看資訊\")\n",
        "            output_types = gr.Textbox(label=\"屬性\", value=\"請選擇寶可夢以查看資訊\")\n",
        "            output_weaknesses = gr.Textbox(label=\"弱點\", value=\"請選擇寶可夢以查看資訊\")\n",
        "            output_image = gr.Image(label=\"圖片\", value=DEFAULT_IMAGE_URL, type=\"filepath\")\n",
        "\n",
        "\n",
        "    # 當選擇變更時，自動更新資訊\n",
        "    pokemon_name.change(fn=show_pokemon, inputs=pokemon_name, outputs=[output_text, output_image, output_types, output_weaknesses])\n",
        "\n",
        "demo.launch()"
      ],
      "metadata": {
        "colab": {
          "base_uri": "https://localhost:8080/",
          "height": 648
        },
        "id": "wZRPFVUWvV7M",
        "outputId": "0bf4e4aa-32e5-4046-9348-68d74cebfbf8"
      },
      "execution_count": null,
      "outputs": [
        {
          "output_type": "stream",
          "name": "stdout",
          "text": [
            "Running Gradio in a Colab notebook requires sharing enabled. Automatically setting `share=True` (you can turn this off by setting `share=False` in `launch()` explicitly).\n",
            "\n",
            "Colab notebook detected. To show errors in colab notebook, set debug=True in launch()\n",
            "* Running on public URL: https://4387b7e92d5ccafaca.gradio.live\n",
            "\n",
            "This share link expires in 72 hours. For free permanent hosting and GPU upgrades, run `gradio deploy` from the terminal in the working directory to deploy to Hugging Face Spaces (https://huggingface.co/spaces)\n"
          ]
        },
        {
          "output_type": "display_data",
          "data": {
            "text/plain": [
              "<IPython.core.display.HTML object>"
            ],
            "text/html": [
              "<div><iframe src=\"https://4387b7e92d5ccafaca.gradio.live\" width=\"100%\" height=\"500\" allow=\"autoplay; camera; microphone; clipboard-read; clipboard-write;\" frameborder=\"0\" allowfullscreen></iframe></div>"
            ]
          },
          "metadata": {}
        },
        {
          "output_type": "execute_result",
          "data": {
            "text/plain": []
          },
          "metadata": {},
          "execution_count": 100
        }
      ]
    }
  ]
}