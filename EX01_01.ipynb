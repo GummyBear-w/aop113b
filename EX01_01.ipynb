{
  "nbformat": 4,
  "nbformat_minor": 0,
  "metadata": {
    "colab": {
      "provenance": [],
      "authorship_tag": "ABX9TyON/one2SBuf+ezsS0U/zBm",
      "include_colab_link": true
    },
    "kernelspec": {
      "name": "python3",
      "display_name": "Python 3"
    },
    "language_info": {
      "name": "python"
    }
  },
  "cells": [
    {
      "cell_type": "markdown",
      "metadata": {
        "id": "view-in-github",
        "colab_type": "text"
      },
      "source": [
        "<a href=\"https://colab.research.google.com/github/GummyBear-w/aop113b/blob/main/EX01_01.ipynb\" target=\"_parent\"><img src=\"https://colab.research.google.com/assets/colab-badge.svg\" alt=\"Open In Colab\"/></a>"
      ]
    },
    {
      "cell_type": "code",
      "execution_count": 2,
      "metadata": {
        "colab": {
          "base_uri": "https://localhost:8080/"
        },
        "id": "sxkvxIpr2qd4",
        "outputId": "5e6f03f1-fd94-49de-a23e-6e40b9f6d5e3"
      },
      "outputs": [
        {
          "output_type": "stream",
          "name": "stdout",
          "text": [
            "Enter first integer: 1\n",
            "Enter second integer: 11\n",
            "Total: 12\n"
          ]
        }
      ],
      "source": [
        "num1 = int(input('Enter first integer: '))\n",
        "num2 = int(input('Enter second integer: '))\n",
        "\n",
        "sum = num1 + num2\n",
        "\n",
        "print('Total:', sum)"
      ]
    }
  ]
}