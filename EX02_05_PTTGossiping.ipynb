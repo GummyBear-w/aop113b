{
  "nbformat": 4,
  "nbformat_minor": 0,
  "metadata": {
    "colab": {
      "provenance": [],
      "authorship_tag": "ABX9TyOru57qTUvbG8BXD+rj0bLv",
      "include_colab_link": true
    },
    "kernelspec": {
      "name": "python3",
      "display_name": "Python 3"
    },
    "language_info": {
      "name": "python"
    }
  },
  "cells": [
    {
      "cell_type": "markdown",
      "metadata": {
        "id": "view-in-github",
        "colab_type": "text"
      },
      "source": [
        "<a href=\"https://colab.research.google.com/github/GummyBear-w/aop113b/blob/main/EX02_05_PTTGossiping.ipynb\" target=\"_parent\"><img src=\"https://colab.research.google.com/assets/colab-badge.svg\" alt=\"Open In Colab\"/></a>"
      ]
    },
    {
      "cell_type": "markdown",
      "source": [
        "https://www.ptt.cc/bbs/Gossiping/index.html"
      ],
      "metadata": {
        "id": "N1FS9zghhqHy"
      }
    },
    {
      "cell_type": "markdown",
      "source": [
        "###電影版單篇"
      ],
      "metadata": {
        "id": "IXB5TD0OhyfN"
      }
    },
    {
      "cell_type": "code",
      "execution_count": 1,
      "metadata": {
        "colab": {
          "base_uri": "https://localhost:8080/"
        },
        "id": "ceKP04Pjg5HM",
        "outputId": "dfa5986c-debf-4c75-c503-f7965473fa29"
      },
      "outputs": [
        {
          "output_type": "execute_result",
          "data": {
            "text/plain": [
              "200"
            ]
          },
          "metadata": {},
          "execution_count": 1
        }
      ],
      "source": [
        "import requests\n",
        "from bs4 import BeautifulSoup\n",
        "\n",
        "url = 'https://www.ptt.cc/bbs/Movie/index.html'\n",
        "response = requests.get(url)\n",
        "response.status_code"
      ]
    },
    {
      "cell_type": "code",
      "source": [
        "soup = BeautifulSoup(response.text, 'lxml')\n",
        "soup.title"
      ],
      "metadata": {
        "colab": {
          "base_uri": "https://localhost:8080/"
        },
        "id": "gJbr7-zAimtr",
        "outputId": "45870fcd-2446-4be6-e6b5-223796100e03"
      },
      "execution_count": 2,
      "outputs": [
        {
          "output_type": "execute_result",
          "data": {
            "text/plain": [
              "<title>看板 movie 文章列表 - 批踢踢實業坊</title>"
            ]
          },
          "metadata": {},
          "execution_count": 2
        }
      ]
    },
    {
      "cell_type": "code",
      "source": [
        "for atcl in soup.find_all('div', class_='r-ent'):\n",
        "    title_tag = atcl.find('div', class_='title').a\n",
        "    if title_tag:\n",
        "        title = title_tag.text\n",
        "        href = 'https://www.ptt.cc' + title_tag.get('href')\n",
        "    else:\n",
        "        title = atcl.find('div', class_='title').text.strip()\n",
        "        href = ''\n",
        "\n",
        "    date = atcl.find('div', class_='date').text.strip()\n",
        "\n",
        "    print(date, href, title)"
      ],
      "metadata": {
        "colab": {
          "base_uri": "https://localhost:8080/"
        },
        "id": "cbl0XFp-i-SY",
        "outputId": "47771407-1840-47ca-e411-1cbfb5dfae2e"
      },
      "execution_count": 11,
      "outputs": [
        {
          "output_type": "stream",
          "name": "stdout",
          "text": [
            "3/31 https://www.ptt.cc/bbs/movie/M.1743382009.A.DDC.html Re: [負雷] 十重點吐槽不知所云的《白雪公主》\n",
            "3/31 https://www.ptt.cc/bbs/movie/M.1743384740.A.A9F.html Re: [閒聊] 最頂公路電影\n",
            "3/31 https://www.ptt.cc/bbs/movie/M.1743390267.A.1F7.html [國片]命中注定那頭鵝心得（部分雷）\n",
            "3/31 https://www.ptt.cc/bbs/movie/M.1743391290.A.6DA.html [討論] 給侏儒演矮人是歧視？不演也不行？\n",
            "3/31 https://www.ptt.cc/bbs/movie/M.1743394732.A.337.html [ 極好雷]  世界計畫劇場版 心得 （內有雷）\n",
            "3/31 https://www.ptt.cc/bbs/movie/M.1743398037.A.772.html [新聞] Richard Chamberlain 過世\n",
            "3/31 https://www.ptt.cc/bbs/movie/M.1743403703.A.53F.html [新聞] 「成龍御用反派」理察諾頓75歲離世 老搭\n",
            "3/31 https://www.ptt.cc/bbs/movie/M.1743407474.A.8EE.html [選片] 重裝制裁and白熊公主\n",
            "3/31 https://www.ptt.cc/bbs/movie/M.1743426164.A.5B4.html [請益] 因故辭演 或是救火演出的電影或\n",
            "3/31 https://www.ptt.cc/bbs/movie/M.1743427223.A.956.html [新聞] 《白雪公主》票房爛到嚇醒好萊塢！趕緊改\n",
            "3/31  (本文已被刪除) [XDGEE]\n",
            "3/31 https://www.ptt.cc/bbs/movie/M.1743429722.A.2DD.html [新聞] 《薩爾達傳說》真人電影三部曲！拍攝地點\n",
            "3/31 https://www.ptt.cc/bbs/movie/M.1743429911.A.056.html [新聞] 《末日之戰2》！布萊德彼特籌拍「極機密\n",
            "9/04 https://www.ptt.cc/bbs/movie/M.1630756788.A.1FE.html [公告] 電影板板規 2022/12/5\n",
            "9/15 https://www.ptt.cc/bbs/movie/M.1694784041.A.89F.html [公告] 禁政治版規 及 投票結果\n"
          ]
        }
      ]
    },
    {
      "cell_type": "code",
      "source": [
        "'https://www.ptt.cc' + soup.find_all('a', class_='btn wide')[1].get('href')"
      ],
      "metadata": {
        "colab": {
          "base_uri": "https://localhost:8080/",
          "height": 35
        },
        "id": "PyDZxLOwk1j0",
        "outputId": "6160477b-584e-406d-bfac-ae1f4392806b"
      },
      "execution_count": 7,
      "outputs": [
        {
          "output_type": "execute_result",
          "data": {
            "text/plain": [
              "'https://www.ptt.cc/bbs/movie/index10547.html'"
            ],
            "application/vnd.google.colaboratory.intrinsic+json": {
              "type": "string"
            }
          },
          "metadata": {},
          "execution_count": 7
        }
      ]
    },
    {
      "cell_type": "markdown",
      "source": [
        "### 電影版5篇"
      ],
      "metadata": {
        "id": "7F4pX9-glJGr"
      }
    },
    {
      "cell_type": "code",
      "source": [
        "def get_articles(url):\n",
        "    response = requests.get(url)\n",
        "    soup = BeautifulSoup(response.text, 'lxml')\n",
        "    for atcl in soup.find_all('div', class_='r-ent'):\n",
        "        if atcl.find('div', class_='title').a:\n",
        "            ttle = atcl.find('div', class_='title').a.text\n",
        "            href = 'https://www.ptt.cc' + atcl.find('div', class_='title').a.get('href')\n",
        "        else:\n",
        "            ttle = atcl.find('div', class_='title').text.strip()\n",
        "            href = ''\n",
        "        date = atcl.find('div', class_='date').text\n",
        "        print(date, href, ttle)\n",
        "    url = 'https://www.ptt.cc' + soup.find_all('a', class_='btn wide')[1].get('href')\n",
        "    return url\n",
        "\n",
        "url = 'https://www.ptt.cc/bbs/Movie/index.html'\n",
        "for i in range(5):\n",
        "    url = get_articles(url)"
      ],
      "metadata": {
        "colab": {
          "base_uri": "https://localhost:8080/"
        },
        "id": "wWE_sNzFlLWp",
        "outputId": "f018b8f0-7b2d-45fd-9b65-6c5786ea4535"
      },
      "execution_count": 8,
      "outputs": [
        {
          "output_type": "stream",
          "name": "stdout",
          "text": [
            " 3/31 https://www.ptt.cc/bbs/movie/M.1743382009.A.DDC.html Re: [負雷] 十重點吐槽不知所云的《白雪公主》\n",
            " 3/31 https://www.ptt.cc/bbs/movie/M.1743384740.A.A9F.html Re: [閒聊] 最頂公路電影\n",
            " 3/31 https://www.ptt.cc/bbs/movie/M.1743390267.A.1F7.html [國片]命中注定那頭鵝心得（部分雷）\n",
            " 3/31 https://www.ptt.cc/bbs/movie/M.1743391290.A.6DA.html [討論] 給侏儒演矮人是歧視？不演也不行？\n",
            " 3/31 https://www.ptt.cc/bbs/movie/M.1743394732.A.337.html [ 極好雷]  世界計畫劇場版 心得 （內有雷）\n",
            " 3/31 https://www.ptt.cc/bbs/movie/M.1743398037.A.772.html [新聞] Richard Chamberlain 過世\n",
            " 3/31 https://www.ptt.cc/bbs/movie/M.1743403703.A.53F.html [新聞] 「成龍御用反派」理察諾頓75歲離世 老搭\n",
            " 3/31 https://www.ptt.cc/bbs/movie/M.1743407474.A.8EE.html [選片] 重裝制裁and白熊公主\n",
            " 3/31 https://www.ptt.cc/bbs/movie/M.1743426164.A.5B4.html [請益] 因故辭演 或是救火演出的電影或\n",
            " 3/31 https://www.ptt.cc/bbs/movie/M.1743427223.A.956.html [新聞] 《白雪公主》票房爛到嚇醒好萊塢！趕緊改\n",
            " 3/31  (本文已被刪除) [XDGEE]\n",
            " 3/31 https://www.ptt.cc/bbs/movie/M.1743429722.A.2DD.html [新聞] 《薩爾達傳說》真人電影三部曲！拍攝地點\n",
            " 3/31 https://www.ptt.cc/bbs/movie/M.1743429911.A.056.html [新聞] 《末日之戰2》！布萊德彼特籌拍「極機密\n",
            " 9/04 https://www.ptt.cc/bbs/movie/M.1630756788.A.1FE.html [公告] 電影板板規 2022/12/5\n",
            " 9/15 https://www.ptt.cc/bbs/movie/M.1694784041.A.89F.html [公告] 禁政治版規 及 投票結果\n",
            " 3/30 https://www.ptt.cc/bbs/movie/M.1743313838.A.315.html [片單] 把暗戀表現得很細膩的電影\n",
            " 3/30 https://www.ptt.cc/bbs/movie/M.1743322183.A.2C5.html Re: [討論] 大家覺得很爛很難看 你卻超喜歡的電影\n",
            " 3/30 https://www.ptt.cc/bbs/movie/M.1743328605.A.CFE.html [新聞] 受日本「租友」文化啟發 奧地利鬼才導演諷刺喜劇顛覆傳統\n",
            " 3/30 https://www.ptt.cc/bbs/movie/M.1743335698.A.AC9.html [新聞] 《麥塊電影》票房3天上看6000萬！接棒《\n",
            " 3/30 https://www.ptt.cc/bbs/movie/M.1743338102.A.0AE.html [情報] 4/18【犯罪直播】中文預告\n",
            " 3/30 https://www.ptt.cc/bbs/movie/M.1743340618.A.CAF.html [問片] 主角家是鞋子工廠\n",
            " 3/30 https://www.ptt.cc/bbs/movie/M.1743341386.A.136.html [討論] 如果時光倒流,讓驚奇少女演白雪公主？\n",
            " 3/30 https://www.ptt.cc/bbs/movie/M.1743342545.A.F07.html [超負雷]《重裝制裁》看到懷疑這是搞笑片嗎？\n",
            " 3/30 https://www.ptt.cc/bbs/movie/M.1743345312.A.F04.html [負雷] 十重點吐槽不知所云的《白雪公主》\n",
            " 3/30 https://www.ptt.cc/bbs/movie/M.1743345768.A.222.html [好雷] 大畫特務2 遠超出期待的收官之作(應該)\n",
            " 3/30 https://www.ptt.cc/bbs/movie/M.1743346533.A.034.html [片單] 愛而不得的片\n",
            " 3/30 https://www.ptt.cc/bbs/movie/M.1743347618.A.C1E.html [好雷] 餘命十年\n",
            " 3/30 https://www.ptt.cc/bbs/movie/M.1743347739.A.76D.html [負雷] 世界計畫 崩壞的世界與無法歌唱的初音未\n",
            " 3/30 https://www.ptt.cc/bbs/movie/M.1743347898.A.603.html [新聞] 傑森史塔森「重裝制裁」讓白雪公主下去\n",
            " 3/30 https://www.ptt.cc/bbs/movie/M.1743348922.A.81D.html [情報] 3/30 當週10部新片預告+Youtube觀看排行\n",
            " 3/30 https://www.ptt.cc/bbs/movie/M.1743349807.A.CCF.html [閒聊] 最頂公路電影\n",
            " 3/31 https://www.ptt.cc/bbs/movie/M.1743351892.A.317.html [好無雷] 無痛先生 意外好看的爽片\n",
            " 3/31 https://www.ptt.cc/bbs/movie/M.1743352619.A.807.html [問片] 一個結尾說要去銀河闖蕩的電影\n",
            " 3/31 https://www.ptt.cc/bbs/movie/M.1743361337.A.355.html [普雷] 寶貝露比 沒反轉\n",
            " 3/31 https://www.ptt.cc/bbs/movie/M.1743365679.A.840.html Re: [新聞] 錯失「超級英雄」角色演員：休傑克曼、\n",
            " 3/29 https://www.ptt.cc/bbs/movie/M.1743235624.A.43A.html [普雷] 《鬼才之道》 \n",
            " 3/29 https://www.ptt.cc/bbs/movie/M.1743236039.A.CEB.html [請益] 封神第二部ScreenX\n",
            " 3/29 https://www.ptt.cc/bbs/movie/M.1743236666.A.8A2.html [LIVE] HBO 22:00 血腥瑪辛\n",
            " 3/29 https://www.ptt.cc/bbs/movie/M.1743237247.A.275.html [問片]女主角被男生強押，用玻璃解危的 電影片段\n",
            " 3/29 https://www.ptt.cc/bbs/movie/M.1743239785.A.E52.html [新聞] 錯失「超級英雄」角色演員：休傑克曼、\n",
            " 3/29 https://www.ptt.cc/bbs/movie/M.1743249332.A.2CB.html [負無雷] 《重裝制裁》大成本的B級片\n",
            " 3/29 https://www.ptt.cc/bbs/movie/M.1743249888.A.5A5.html [選片] 請問明天想要看電影？\n",
            " 3/29 https://www.ptt.cc/bbs/movie/M.1743256268.A.EAD.html [好微雷] 來自誰的啟示 全員無惡人 是誰造就了悲\n",
            " 3/29 https://www.ptt.cc/bbs/movie/M.1743256745.A.8EF.html [反思]重裝制裁：俄羅斯人的鬼片\n",
            " 3/29 https://www.ptt.cc/bbs/movie/M.1743258069.A.D41.html [請益] 飾演過陳真的演員?\n",
            " 3/29 https://www.ptt.cc/bbs/movie/M.1743259038.A.0A7.html [討論] 分享我今年的電影清單\n",
            " 3/30 https://www.ptt.cc/bbs/movie/M.1743264269.A.B1A.html [好雷] 鬼才之道\n",
            " 3/30 https://www.ptt.cc/bbs/movie/M.1743264755.A.3FF.html [討論] 請問有小孩子的《白雪公主》心得嗎?\n",
            " 3/30 https://www.ptt.cc/bbs/movie/M.1743267211.A.826.html [好雷] 《重裝制裁》導演一定有玩GTA\n",
            " 3/30 https://www.ptt.cc/bbs/movie/M.1743297144.A.418.html [討論] 為什麼《會計師》直譯片名而無前綴詞？\n",
            " 3/30  (本文已被刪除) [XDGEE]\n",
            " 3/30 https://www.ptt.cc/bbs/movie/M.1743301005.A.7D7.html [新聞] 席德妮史威尼穿比基尼！體態圓潤遭網酸：\n",
            " 3/30 https://www.ptt.cc/bbs/movie/M.1743301256.A.951.html [新聞] 「白雪公主」太欠罵！製片教訓她兒子補刀\n",
            " 3/30 https://www.ptt.cc/bbs/movie/M.1743305334.A.78A.html [討論] 大家覺得很爛很難看 你卻超喜歡的電影\n",
            " 3/30 https://www.ptt.cc/bbs/movie/M.1743311764.A.F6B.html [好無雷]電影版孤獨的美食家:更頂的五郎吃遍世界\n",
            " 3/28 https://www.ptt.cc/bbs/movie/M.1743135472.A.E47.html [情報] iTunes$80起 餐廳失控夜.維多莉亞.湯道 \n",
            " 3/28 https://www.ptt.cc/bbs/movie/M.1743146619.A.2FA.html [討論] 封神第二部特效問題\n",
            " 3/28 https://www.ptt.cc/bbs/movie/M.1743158430.A.A25.html [負雷] 《白雪公主》無恥至極的大爛片\n",
            " 3/28 https://www.ptt.cc/bbs/movie/M.1743160450.A.144.html [好雷] 重裝制裁\n",
            " 3/28 https://www.ptt.cc/bbs/movie/M.1743163145.A.70E.html [好無雷] 太正向了受不了《世界計劃 略》\n",
            " 3/28 https://www.ptt.cc/bbs/movie/M.1743163591.A.5B7.html [片單] 有沒有看完會很負面的電影啊\n",
            " 3/28 https://www.ptt.cc/bbs/movie/M.1743166672.A.E40.html [負雷] 重裝制裁 蜂刑者好看多了 \n",
            " 3/28 https://www.ptt.cc/bbs/movie/M.1743167379.A.691.html Re: [好雷] 重裝制裁\n",
            " 3/28 https://www.ptt.cc/bbs/movie/M.1743167697.A.F95.html [請益] 目前有比白雪公主賠3億更高紀錄嗎？？\n",
            " 3/28 https://www.ptt.cc/bbs/movie/M.1743169529.A.E33.html [爛雷]  古曼童：母愛降靈\n",
            " 3/28 https://www.ptt.cc/bbs/movie/M.1743170335.A.A95.html [情報] 《薩爾達傳說》真人電影版2027/3/26上映\n",
            " 3/28 https://www.ptt.cc/bbs/movie/M.1743170877.A.4CB.html [普雷] 重裝制裁 麻煩不要再試圖做些什麼了\n",
            " 3/29 https://www.ptt.cc/bbs/movie/M.1743185897.A.604.html [討論] 亞歷鮑德溫被他的嫩妻叫閉嘴\n",
            " 3/29 https://www.ptt.cc/bbs/movie/M.1743186838.A.D5A.html [新聞] 《驚奇 4 超人：第一步》的票房挑戰！重\n",
            " 3/29 https://www.ptt.cc/bbs/movie/M.1743187081.A.7F7.html [新聞] 奧斯卡影后麥迪遜《惡靈古堡》重啟主角！\n",
            " 3/29 https://www.ptt.cc/bbs/movie/M.1743192353.A.AC0.html [討論] 《復仇者5》明顯缺少女性\n",
            " 3/29 https://www.ptt.cc/bbs/movie/M.1743208325.A.114.html [片單] 體會日常美好的電影\n",
            " 3/29 https://www.ptt.cc/bbs/movie/M.1743211715.A.4E5.html [負微雷] 重裝制裁\n",
            " 3/29 https://www.ptt.cc/bbs/movie/M.1743226583.A.979.html [好雷] 鬼才之道 \n",
            " 3/29 https://www.ptt.cc/bbs/movie/M.1743226622.A.F49.html Re: [請益] 目前有比白雪公主賠3億更高紀錄嗎？？\n",
            " 3/27 https://www.ptt.cc/bbs/movie/M.1743066698.A.DE5.html [  雷] 懼裂 \n",
            " 3/27 https://www.ptt.cc/bbs/movie/M.1743067932.A.27D.html [雷] 無雷心得 白雪公主\n",
            " 3/27 https://www.ptt.cc/bbs/movie/M.1743071385.A.CD0.html [討論] 夜魔俠跟蝙蝠俠打起來誰比較強？\n",
            " 3/27 https://www.ptt.cc/bbs/movie/M.1743071989.A.F5A.html [新聞] 於帝國大反擊為白卜庭皇帝配音的演員克\n",
            " 3/27 https://www.ptt.cc/bbs/movie/M.1743074638.A.A66.html [普雷]《獵人兄弟》獵場狩獵是遺產還是傷口？\n",
            " 3/27 https://www.ptt.cc/bbs/movie/M.1743080234.A.6EA.html [討論]【型男主廚三星夢：巴黎篇】台灣上國際版\n",
            " 3/27 https://www.ptt.cc/bbs/movie/M.1743080863.A.717.html [新聞] 米高肯恩直呼馮迪索是「親兒子」！我孫子\n",
            " 3/27  (本文已被刪除) [XDGEE]\n",
            " 3/27 https://www.ptt.cc/bbs/movie/M.1743081217.A.0DE.html [新聞] 傳《不可能的任務8》製作成本堪比《阿凡\n",
            " 3/27 https://www.ptt.cc/bbs/movie/M.1743084933.A.62C.html Re: [超好雷] 特洛伊：木馬屠城\n",
            " 3/28 https://www.ptt.cc/bbs/movie/M.1743092826.A.44B.html [新聞] 真人《馴龍高手》角色個人海報！「龍族」\n",
            " 3/28 https://www.ptt.cc/bbs/movie/M.1743093033.A.01D.html [新聞] 亞曼達塞佛瑞「害怕」而拒演出葛摩菈！\n",
            " 3/28 https://www.ptt.cc/bbs/movie/M.1743099431.A.EBC.html [公告] 水桶\n",
            " 3/28 https://www.ptt.cc/bbs/movie/M.1743107293.A.BB5.html [討論] 看完玩命關頭X 蜜亞的疑問\n",
            " 3/28 https://www.ptt.cc/bbs/movie/M.1743109813.A.C7B.html [情報] 8號出口 真人電影化 特報影片&演員公開\n",
            " 3/28 https://www.ptt.cc/bbs/movie/M.1743117136.A.61F.html [情報]  李奧納多《一戰再戰》正式預告\n",
            " 3/28 https://www.ptt.cc/bbs/movie/M.1743117468.A.0CF.html [情報] 陰陽眼見子 真人電影化 海報&預告公開\n",
            " 3/28 https://www.ptt.cc/bbs/movie/M.1743129637.A.519.html [情報]混沌少年時團隊成名作《餐廳失控夜》重映\n",
            " 3/28 https://www.ptt.cc/bbs/movie/M.1743134008.A.6DB.html Fw: [軟體] 劇場版初音未來 劇情簡介\n",
            " 3/28 https://www.ptt.cc/bbs/movie/M.1743134908.A.A35.html [公告] 水桶\n"
          ]
        }
      ]
    },
    {
      "cell_type": "markdown",
      "source": [
        "### 美食版5篇"
      ],
      "metadata": {
        "id": "W8jY5aR5mHTh"
      }
    },
    {
      "cell_type": "code",
      "source": [
        "def get_articles(url):\n",
        "    response = requests.get(url)\n",
        "    soup = BeautifulSoup(response.text, 'lxml')\n",
        "    for atcl in soup.find_all('div', class_='r-ent'):\n",
        "        if atcl.find('div', class_='title').a:\n",
        "            ttle = atcl.find('div', class_='title').a.text\n",
        "            href = 'https://www.ptt.cc' + atcl.find('div', class_='title').a.get('href')\n",
        "        else:\n",
        "            ttle = atcl.find('div', class_='title').text.strip()\n",
        "            href = ''\n",
        "        date = atcl.find('div', class_='date').text\n",
        "        print(date, href, ttle)\n",
        "    url = 'https://www.ptt.cc' + soup.find_all('a', class_='btn wide')[1].get('href')\n",
        "    return url\n",
        "\n",
        "url = 'https://www.ptt.cc/bbs/Food/index.html'\n",
        "for i in range(5):\n",
        "    url = get_articles(url)"
      ],
      "metadata": {
        "colab": {
          "base_uri": "https://localhost:8080/"
        },
        "id": "0Dv5IqPxmJvK",
        "outputId": "3868689a-f84d-439a-b57e-15cc6e471977"
      },
      "execution_count": 9,
      "outputs": [
        {
          "output_type": "stream",
          "name": "stdout",
          "text": [
            " 3/30 https://www.ptt.cc/bbs/Food/M.1743310289.A.717.html [食記] 嘉義東區—羅山生炒鱔魚麵｜炭燒味生炒鱔魚麵只賣四小時\n",
            " 3/30 https://www.ptt.cc/bbs/Food/M.1743319033.A.85B.html [請益] 台北藍線8人家族聚餐\n",
            " 3/30 https://www.ptt.cc/bbs/Food/M.1743329615.A.867.html [食記] 京都出町柳 COYOTE Roastery\n",
            " 3/30 https://www.ptt.cc/bbs/Food/M.1743344370.A.204.html [食記] 桃園中壢區。豐味食堂\n",
            " 3/30  (本文已被刪除) [JimXpp]\n",
            " 3/30  (本文已被刪除) [JimXpp]\n",
            " 3/30 https://www.ptt.cc/bbs/Food/M.1743345355.A.090.html [食記] 京都五条 LORIMER KYOTO 烤魚早餐\n",
            " 3/30 https://www.ptt.cc/bbs/Food/M.1743346687.A.74A.html [食記] 日本 福岡 小倉 一平本店\n",
            " 3/31 https://www.ptt.cc/bbs/Food/M.1743351091.A.5BA.html [食記] 台北101鼎泰豐\n",
            " 3/31 https://www.ptt.cc/bbs/Food/M.1743351356.A.5E6.html [食記] 法國尼斯 Kiosque tintin 吃尼斯三明治\n",
            " 3/31 https://www.ptt.cc/bbs/Food/M.1743351484.A.16E.html [食記] 台北大同 慈音古早味阿婆飯糰 神奇的排隊店\n",
            " 3/31 https://www.ptt.cc/bbs/Food/M.1743359473.A.035.html [食記] 瑞典 斯德哥爾摩 Herno Gin Bar\n",
            " 3/31 https://www.ptt.cc/bbs/Food/M.1743394382.A.4C8.html [食記] 新竹 阿瑛潤餅（仁德街口無名潤餅）\n",
            " 3/31 https://www.ptt.cc/bbs/Food/M.1743406110.A.DEA.html [食記] 台南UNOS CAF줠甜點與咖啡的極致享受\n",
            " 3/31 https://www.ptt.cc/bbs/Food/M.1743415376.A.40E.html [食記] 北港鼎太香菇肉羹 新北新莊 肉羹及滷肉飯\n",
            " 3/31 https://www.ptt.cc/bbs/Food/M.1743424850.A.DE1.html [食記] Monday不blue！∥板橋∥松江街∥旧宅在 \n",
            " 3/31 https://www.ptt.cc/bbs/Food/M.1743426274.A.0B1.html [食記] 彰化 八卦山下燒肉圓\n",
            " 3/31 https://www.ptt.cc/bbs/Food/M.1743428942.A.DAC.html [食記] 香港 蛇王熙\n",
            "12/16 https://www.ptt.cc/bbs/Food/M.1355673582.A.5F7.html [公告] Food板 板規 V3.91\n",
            " 9/28 https://www.ptt.cc/bbs/Food/M.1190944426.A.E6C.html [公告] 發文請在標題加上地區及提供地址電話。^^\n",
            "10/01 https://www.ptt.cc/bbs/Food/M.1128132666.A.0FD.html [公告] 文章被刪除者請洽精華區的資源回收桶\n",
            " 6/04 https://www.ptt.cc/bbs/Food/M.1496532469.A.C36.html [公告] 新增板規22：發文禁附延伸閱讀連結\n",
            " 3/27 https://www.ptt.cc/bbs/Food/M.1743040761.A.943.html [食記] 隣tonari拉麵 台北大安 濃郁豚骨魚介沾麵\n",
            " 3/27 https://www.ptt.cc/bbs/Food/M.1743055596.A.E75.html [食記] 內湖環山路上Le Mani 琢手咖啡 \n",
            " 3/27 https://www.ptt.cc/bbs/Food/M.1743063492.A.ACC.html [食記] 台北士林—忠義街蘿蔔絲餅｜傳承二代人氣銅板下午茶\n",
            " 3/27 https://www.ptt.cc/bbs/Food/M.1743084000.A.5DA.html [食記] 日本 長崎 雲龍亭 (銅座店)\n",
            " 3/27 https://www.ptt.cc/bbs/Food/M.1743084559.A.AD5.html [食記] 桃園。頭頓煎蝦餅\n",
            " 3/27 https://www.ptt.cc/bbs/Food/M.1743091195.A.FD4.html [食記] 日本福岡 水炊料亭 博多華味鳥 天神店\n",
            " 3/28 https://www.ptt.cc/bbs/Food/M.1743128568.A.1F7.html [廣宣] 台北 新開幕的日式炙燒鴨肉專門店-鴨箱\n",
            " 3/28 https://www.ptt.cc/bbs/Food/M.1743130667.A.9FC.html [食記] 香港旺角 金華冰廳 美味菠蘿油邪惡西多士\n",
            " 3/28 https://www.ptt.cc/bbs/Food/M.1743133621.A.537.html [食記] 社子魚丸 台北士林 魚丸配辣高麗菜冬粉湯\n",
            " 3/28 https://www.ptt.cc/bbs/Food/M.1743156437.A.E3D.html [食記] 新竹素食|田土山。藏身市區無菜單料理\n",
            " 3/28 https://www.ptt.cc/bbs/Food/M.1743156669.A.27D.html [食記] 桃園平鎮區。巧御食光\n",
            " 3/28 https://www.ptt.cc/bbs/Food/M.1743170470.A.833.html [食記] 香港 新桂香燒臘\n",
            " 3/29 https://www.ptt.cc/bbs/Food/M.1743224109.A.144.html [食記] 宜蘭 大成 羊排麵牛肉麵\n",
            " 3/29 https://www.ptt.cc/bbs/Food/M.1743243245.A.229.html [食記] 捷克 帝國咖啡廳 世界最美十大咖啡廳\n",
            " 3/29 https://www.ptt.cc/bbs/Food/M.1743246299.A.234.html [食記] 台中 西區｜迴香印度餐廳 Savory Curry\n",
            " 3/29 https://www.ptt.cc/bbs/Food/M.1743250396.A.653.html [食記] 新北板橋 谷藺 x Sweet Bites Lab\n",
            " 3/29 https://www.ptt.cc/bbs/Food/M.1743260620.A.873.html [食記] 懷舊中卷麵線 桃園龜山 中卷大腸肉羹麵線\n",
            " 3/30 https://www.ptt.cc/bbs/Food/M.1743266351.A.739.html [食記] 法國尼斯 Chez Pipo尼斯洋蔥塔鷹嘴豆煎餅\n",
            " 3/30 https://www.ptt.cc/bbs/Food/M.1743302590.A.408.html [食記] 微香 新竹竹北 香濃青醬豬肉水管義大利麵\n",
            " 3/30 https://www.ptt.cc/bbs/Food/M.1743305782.A.B75.html [食記] 泰國佛統府 Manpai Sainam Cafe\n",
            " 3/24 https://www.ptt.cc/bbs/Food/M.1742808041.A.0BE.html [食記] 桃園 平鎮 松源客家菜館\n",
            " 3/24 https://www.ptt.cc/bbs/Food/M.1742824448.A.FB6.html [食記] 台北 CHA CHA THÉ CUISINE采采食茶\n",
            " 3/24 https://www.ptt.cc/bbs/Food/M.1742829379.A.4FD.html [食記] 桃園 Mellowed Me 美若靡商行 美味甜點店\n",
            " 3/25 https://www.ptt.cc/bbs/Food/M.1742836224.A.B4E.html [食記] 台北 文山 老饒牛肉麵店\n",
            " 3/25 https://www.ptt.cc/bbs/Food/M.1742876273.A.906.html [食記] いづ重 日本京都 醋飯酸香風味淡雅箱壽司\n",
            " 3/25 https://www.ptt.cc/bbs/Food/M.1742908442.A.E76.html [食記] 台北 一甲子餐飲 米其林必比登\n",
            " 3/25 https://www.ptt.cc/bbs/Food/M.1742910899.A.DFE.html [食記] 新竹 墨多 再訪\n",
            " 3/25 https://www.ptt.cc/bbs/Food/M.1742911175.A.7EF.html [食記] 日本 大阪 日本橋 なにわ新風 日本橋總本\n",
            " 3/25 https://www.ptt.cc/bbs/Food/M.1742911524.A.689.html [食記] 桃園平鎮區。天津小籠包（矮房子）\n",
            " 3/25 https://www.ptt.cc/bbs/Food/M.1742916544.A.1DE.html [食記] 台中 新天地崇德旗艦店-樂食自助百匯 \n",
            " 3/25 https://www.ptt.cc/bbs/Food/M.1742917338.A.192.html [食記] 基隆中正區-朴庶韓國烤肉 基隆北寧店\n",
            " 3/26 https://www.ptt.cc/bbs/Food/M.1742960584.A.F75.html [食記] 沖茶 台北信義 清香香蘭葉冰茶香蘭葉甜糕\n",
            " 3/26 https://www.ptt.cc/bbs/Food/M.1742969454.A.BA4.html [廣宣] 南港 LaLaport舒芙蕾鬆餅推-武蔵野森珈琲\n",
            " 3/26 https://www.ptt.cc/bbs/Food/M.1742975399.A.0C1.html [食記] 台南北區 賀呷肉燥飯虱目魚\n",
            " 3/26 https://www.ptt.cc/bbs/Food/M.1742976377.A.E18.html [食記] 高雄苓雅區 正義蚵仔麵線\n",
            " 3/26 https://www.ptt.cc/bbs/Food/M.1742983548.A.C75.html [食記] 台南學甲 順德土產牛肉湯\n",
            " 3/26 https://www.ptt.cc/bbs/Food/M.1742993240.A.533.html [食記] 新竹 三千金現做潤餅 ～遊走各市場間\n",
            " 3/26 https://www.ptt.cc/bbs/Food/M.1742996902.A.907.html [食記] 台中 ISOLA Dining & Bar\n",
            " 3/26 https://www.ptt.cc/bbs/Food/M.1743001873.A.D17.html [食記] 花蓮 強蛋餅 花蓮大東夜市 蛋餅好好吃\n",
            " 3/26 https://www.ptt.cc/bbs/Food/M.1743002256.A.A2A.html [食記] 花蓮玉里鎮不思閣米甜圈\n",
            " 3/22 https://www.ptt.cc/bbs/Food/M.1742576568.A.78E.html [食記] 台北 大安 詹記麻辣火鍋(敦南店)\n",
            " 3/22 https://www.ptt.cc/bbs/Food/M.1742608702.A.5D7.html [食記] 東京燒肉 蕃ebisu yoroniku  \n",
            " 3/22 https://www.ptt.cc/bbs/Food/M.1742631341.A.9C4.html [食記] 台中 中區｜敷酒串屋 FU JIU\n",
            " 3/22 https://www.ptt.cc/bbs/Food/M.1742635712.A.94F.html [食記] 桃園。法大炸雞\n",
            " 3/22 https://www.ptt.cc/bbs/Food/M.1742635962.A.A21.html [食記] 炸豬排檍 日本東京 香酥炸豬排搭伍斯特醬\n",
            " 3/22 https://www.ptt.cc/bbs/Food/M.1742655463.A.A04.html [食記] 東京六厘舍|車站地下街~大份量沾麵\n",
            " 3/23 https://www.ptt.cc/bbs/Food/M.1742690549.A.5A6.html [食記] 正宗岡山羊肉 新北土城 麻油炒羊肉羊雜湯\n",
            " 3/23 https://www.ptt.cc/bbs/Food/M.1742692135.A.5D5.html [食記] 竹北 日式板前無菜單料理，豪軒\n",
            " 3/23 https://www.ptt.cc/bbs/Food/M.1742695050.A.094.html [食記] 日本東京 HARBS澀谷櫻花舞台店\n",
            " 3/23 https://www.ptt.cc/bbs/Food/M.1742695486.A.EA9.html [食記] 泰國佛統府 After the Rain Coffee\n",
            " 3/23 https://www.ptt.cc/bbs/Food/M.1742702180.A.D4C.html [食記] 澳門。倫敦人酒店-Shake Shack漢堡\n",
            " 3/23 https://www.ptt.cc/bbs/Food/M.1742705372.A.6A7.html [食記] 斗南 榕苑古蹟餐飲\n",
            " 3/23 https://www.ptt.cc/bbs/Food/M.1742709100.A.1A8.html [食記] 東京新宿 AFURI 新宿ルミネ 柚子鹽味拉麵\n",
            " 3/23 https://www.ptt.cc/bbs/Food/M.1742735426.A.EB7.html [食記] 台中 飪室咖哩\n",
            " 3/23 https://www.ptt.cc/bbs/Food/M.1742739508.A.DB2.html [食記] 桃園蘆竹區。許家肉圓\n",
            " 3/23 https://www.ptt.cc/bbs/Food/M.1742739611.A.69C.html [食記] 日本 長崎 長崎車站 中華大八\n",
            " 3/24 https://www.ptt.cc/bbs/Food/M.1742752182.A.C6F.html [請益] 信義區下午就能喝酒吃小菜的地方\n",
            " 3/24 https://www.ptt.cc/bbs/Food/M.1742783430.A.F20.html [食記] 台南 阿龍香腸熟肉 老味道 阿舍菜\n",
            " 3/24 https://www.ptt.cc/bbs/Food/M.1742784937.A.425.html [食記] 昌明豆漿小籠包 新北新莊 香麻辣Q小籠包\n",
            " 3/24 https://www.ptt.cc/bbs/Food/M.1742799570.A.10F.html Fw: [食記] 東京 つばめグリル 多蜜醬紙包燉煮漢堡排\n",
            " 3/19 https://www.ptt.cc/bbs/Food/M.1742395894.A.2E4.html [食記] 美國 北加人氣咖啡Verve Coffee Roasters\n",
            " 3/20 https://www.ptt.cc/bbs/Food/M.1742428245.A.34B.html [食記] 日本高千穗-雞肉好吃又特別-鶏の炭火焼 \n",
            " 3/20 https://www.ptt.cc/bbs/Food/M.1742434318.A.C20.html [廣宣] 新北 平價串燒19元起-柒息地串燒居酒屋\n",
            " 3/20 https://www.ptt.cc/bbs/Food/M.1742441653.A.14F.html [請益] 雙北適合家庭聚餐的餐廳(桌菜為主)\n",
            " 3/20 https://www.ptt.cc/bbs/Food/M.1742449689.A.536.html [食記] 台北中正 華山町餐酒館\n",
            " 3/20 https://www.ptt.cc/bbs/Food/M.1742460087.A.AAA.html [食記] 麵屋高倉二条 日本京都 豚骨魚介牛腸沾麵\n",
            " 3/20 https://www.ptt.cc/bbs/Food/M.1742462141.A.778.html [食記] 台中 豐原廟東夜市懶人包，菱角酥/蒜肉飯\n",
            " 3/20 https://www.ptt.cc/bbs/Food/M.1742470166.A.BFE.html [食記] 台南東區 黑家麵館 好吃的涼皮 免費冷飲\n",
            " 3/20 https://www.ptt.cc/bbs/Food/M.1742473819.A.45C.html [食記] 彰化 與咖啡 本事空間設計獨棟美宅\n",
            " 3/20 https://www.ptt.cc/bbs/Food/M.1742473964.A.770.html [食記] 雪梨5間咖啡廳推薦：Single O, Campos \n",
            " 3/20 https://www.ptt.cc/bbs/Food/M.1742479629.A.D2D.html [食記] 基隆市信義區-麵匡匡拉麵食堂 基隆深溪店\n",
            " 3/20 https://www.ptt.cc/bbs/Food/M.1742479758.A.EDC.html [食記] 台北 TIPSY Sparrow\n",
            " 3/20 https://www.ptt.cc/bbs/Food/M.1742480837.A.CBF.html [食記] 桃園中壢區。清牛堂 專業清燉牛肉麵\n",
            " 3/20 https://www.ptt.cc/bbs/Food/M.1742482677.A.C33.html [食記] 羅東 悟饕 台式控肉飯包\n",
            " 3/21 https://www.ptt.cc/bbs/Food/M.1742491464.A.D55.html [食記] 台北 內湖 東引快刀手內湖店\n",
            " 3/21 https://www.ptt.cc/bbs/Food/M.1742515056.A.D30.html [食記] 桃園中壢-多樣和牛吃到飽-和牛涮\n",
            " 3/21 https://www.ptt.cc/bbs/Food/M.1742516450.A.B91.html [食記] 高雄.美濃-阿香的廚房\n",
            " 3/21 https://www.ptt.cc/bbs/Food/M.1742554795.A.AF1.html [食記] 三姐妹餐飲店 基隆仁愛 五味軟絲炸紅燒鰻\n",
            " 3/21 https://www.ptt.cc/bbs/Food/M.1742563372.A.B6B.html [食記] 日本 HARBS 午間套餐\n",
            " 3/21 https://www.ptt.cc/bbs/Food/M.1742566946.A.054.html [食記] 香港 天龍軒 (米其林二星)\n"
          ]
        }
      ]
    },
    {
      "cell_type": "markdown",
      "source": [
        "### 八卦版5篇"
      ],
      "metadata": {
        "id": "o40bVEdDmSNn"
      }
    },
    {
      "cell_type": "code",
      "source": [
        "def get_articles(url):\n",
        "    response = requests.get(url)\n",
        "    soup = BeautifulSoup(response.text, 'lxml')\n",
        "    for atcl in soup.find_all('div', class_='r-ent'):\n",
        "        if atcl.find('div', class_='title').a:\n",
        "            ttle = atcl.find('div', class_='title').a.text\n",
        "            href = 'https://www.ptt.cc' + atcl.find('div', class_='title').a.get('href')\n",
        "        else:\n",
        "            ttle = atcl.find('div', class_='title').text.strip()\n",
        "            href = ''\n",
        "        date = atcl.find('div', class_='date').text\n",
        "        print(date, href, ttle)\n",
        "    url = 'https://www.ptt.cc' + soup.find_all('a', class_='btn wide')[1].get('href')\n",
        "    return url\n",
        "\n",
        "url = 'https://www.ptt.cc/bbs/Gossiping/index.html'\n",
        "for i in range(5):\n",
        "    url = get_articles(url)"
      ],
      "metadata": {
        "colab": {
          "base_uri": "https://localhost:8080/"
        },
        "id": "4cuRsZ32mU0a",
        "outputId": "03bdbd30-2ae8-4a63-a70c-7f99ae66a08c"
      },
      "execution_count": 10,
      "outputs": [
        {
          "output_type": "stream",
          "name": "stdout",
          "text": [
            " 3/31 https://www.ptt.cc/bbs/Gossiping/M.1743429846.A.3B1.html [爆卦] 高等法院自律會新聞稿\n",
            " 3/31 https://www.ptt.cc/bbs/Gossiping/M.1743429909.A.E1F.html [問卦] 高雄天氣很好的卦\n",
            " 3/31 https://www.ptt.cc/bbs/Gossiping/M.1743429925.A.74A.html [問卦] 有人跟我一樣會看妹子的下體褲縫嗎\n",
            " 3/31 https://www.ptt.cc/bbs/Gossiping/M.1743430111.A.2A5.html [問卦] 給鄉民操盤會怎麼讓台灣撐30天?\n",
            " 3/31 https://www.ptt.cc/bbs/Gossiping/M.1743430144.A.49F.html [問卦] 中國管飽影片 小代是不是要被好A取代了\n",
            " 3/31 https://www.ptt.cc/bbs/Gossiping/M.1743430275.A.A60.html [問卦] ai生成圖片有侵權的問題嗎？\n",
            " 3/31 https://www.ptt.cc/bbs/Gossiping/M.1743430385.A.352.html [問卦] 沒人發現小孩很醜還一直曬整個黑人問號！\n",
            " 3/31 https://www.ptt.cc/bbs/Gossiping/M.1743430513.A.E7E.html [新聞] 國際金融中心排名退到73名 金管會喊：兩\n",
            " 3/31 https://www.ptt.cc/bbs/Gossiping/M.1743430568.A.ED9.html [問卦] 陸配不是問題 有問題的是人\n",
            " 3/31 https://www.ptt.cc/bbs/Gossiping/M.1743430570.A.4CD.html Re: [問卦] 恩綺比台女有氣質耶？\n",
            " 3/31 https://www.ptt.cc/bbs/Gossiping/M.1743430572.A.41A.html [新聞] 遭球迷噓聲比倒讚！邊荷律「怒瞪回敬」畫面曝　經紀人列7點\n",
            " 3/31 https://www.ptt.cc/bbs/Gossiping/M.1743430618.A.D8F.html Re: [新聞] 沒看調查資料？王義川酸「你又知道」 秒\n",
            " 3/31 https://www.ptt.cc/bbs/Gossiping/M.1743430623.A.BDA.html [問卦] 急，股票跌錢要投資什麼\n",
            " 3/31 https://www.ptt.cc/bbs/Gossiping/M.1743430624.A.5DB.html Re: [問卦] 為何中國玩短影音已經玩到全世界最精\n",
            " 3/31 https://www.ptt.cc/bbs/Gossiping/M.1743430740.A.3E6.html Re: [問卦] 有人跟我一樣會看妹子的下體褲縫嗎\n",
            " 3/31 https://www.ptt.cc/bbs/Gossiping/M.1743430771.A.3CA.html [問卦] 台灣會挺格陵蘭嗎？\n",
            " 3/31 https://www.ptt.cc/bbs/Gossiping/M.1743430772.A.37F.html [新聞] 法國極右翼勢力重挫 雷朋與同黨議員遭判\n",
            " 3/31 https://www.ptt.cc/bbs/Gossiping/M.1743430783.A.039.html [問卦] 原來當工程師領高薪要這麼硬嗎？\n",
            " 3/31 https://www.ptt.cc/bbs/Gossiping/M.1743430812.A.DF8.html [問卦] 女同事：台男又色又窮   怎麼反駁？？\n",
            " 3/31 https://www.ptt.cc/bbs/Gossiping/M.1743430934.A.DCC.html [新聞] 台股重挫906.99點創單日第4大跌點 台積電\n",
            "11/02 https://www.ptt.cc/bbs/Gossiping/M.1730554547.A.41C.html Fw: [公告] 請留意新註冊帳號使用信件詐騙\n",
            " 1/21 https://www.ptt.cc/bbs/Gossiping/M.1737398137.A.644.html [公告] 八卦板板規(2025.01.21)\n",
            " 3/12 https://www.ptt.cc/bbs/Gossiping/M.1741791500.A.EB6.html Fw: [公告] 請避免與登入1次之帳號進行交易 發錢\n",
            " 3/28 https://www.ptt.cc/bbs/Gossiping/M.1743146619.A.5A2.html [公告] 八卦板主徵選規則修正&截止時間\n",
            " 3/31 https://www.ptt.cc/bbs/Gossiping/M.1743429096.A.3FE.html [問卦] 淘寶機械鍵盤怎麼選啊？！\n",
            " 3/31 https://www.ptt.cc/bbs/Gossiping/M.1743429097.A.F40.html Re: [新聞] 綠提案修《陸海空軍刑法》　言語效忠敵人\n",
            " 3/31 https://www.ptt.cc/bbs/Gossiping/M.1743429121.A.60C.html [新聞] 朱立倫：不投票就是支持民進黨 蔣萬安批\n",
            " 3/31 https://www.ptt.cc/bbs/Gossiping/M.1743429127.A.C3B.html Re: [新聞] 取消監控鍾文智未送達、增補理由、抽換電話紀錄　高院2\n",
            " 3/31 https://www.ptt.cc/bbs/Gossiping/M.1743429152.A.008.html Re: [新聞] 趙少康嘆：現在最後悔的人是柯文哲　\n",
            " 3/31 https://www.ptt.cc/bbs/Gossiping/M.1743429208.A.DF9.html [新聞] 許銘春嗨唱會議記錄曝 法律依據「提升勞\n",
            " 3/31 https://www.ptt.cc/bbs/Gossiping/M.1743429221.A.BDF.html [問卦] 雨是在大幾點的呀.. 又濕又冷的..\n",
            " 3/31 https://www.ptt.cc/bbs/Gossiping/M.1743429263.A.249.html Re: [新聞] 李雅英不滿「被叫坐大腿」 罕見強硬反擊\n",
            " 3/31 https://www.ptt.cc/bbs/Gossiping/M.1743429275.A.684.html [問卦] 台灣的悲哀是什麼？\n",
            " 3/31 https://www.ptt.cc/bbs/Gossiping/M.1743429316.A.E01.html [問卦] 綠電是躺贏狗嗎\n",
            " 3/31 https://www.ptt.cc/bbs/Gossiping/M.1743429338.A.140.html Re: [問卦] 缺工薪水開兩三萬？\n",
            " 3/31 https://www.ptt.cc/bbs/Gossiping/M.1743429372.A.3C5.html [新聞] 大馬前上議院主席報警 促查中共宣傳共產\n",
            " 3/31 https://www.ptt.cc/bbs/Gossiping/M.1743429484.A.0C1.html [新聞] 卓榮泰酸新北漠視中央資源 劉和然反批「\n",
            " 3/31 https://www.ptt.cc/bbs/Gossiping/M.1743429488.A.A57.html [問卦] 中國統一之後 賴的下場會如何？\n",
            " 3/31 https://www.ptt.cc/bbs/Gossiping/M.1743429565.A.CE4.html [問卦] 被說非自願單身 是很嚴重的侮辱嗎?\n",
            " 3/31 https://www.ptt.cc/bbs/Gossiping/M.1743429713.A.8C8.html [問卦] 這家店名叫什麼？\n",
            " 3/31 https://www.ptt.cc/bbs/Gossiping/M.1743429749.A.A46.html Re: [問卦] 顯卡缺貨 都沒人出來管嗎?\n",
            " 3/31  (本文已被刪除) [roder]\n",
            " 3/31  (本文已被刪除) [HD0621]\n",
            " 3/31 https://www.ptt.cc/bbs/Gossiping/M.1743429835.A.4E1.html Re: [新聞] 沒看調查資料？王義川酸「你又知道」 秒\n",
            " 3/31 https://www.ptt.cc/bbs/Gossiping/M.1743428312.A.89E.html Re: [問卦] Peugeot 是一個怎樣的牌子?\n",
            " 3/31 https://www.ptt.cc/bbs/Gossiping/M.1743428315.A.571.html Re: [新聞] 綠提案修《陸海空軍刑法》　言語效忠敵人\n",
            " 3/31 https://www.ptt.cc/bbs/Gossiping/M.1743428353.A.C95.html [問卦] 包莖禿頭甲幾乎不可能 O_o\n",
            " 3/31 https://www.ptt.cc/bbs/Gossiping/M.1743428387.A.BF1.html [新聞] 批民進黨集體擋核三延役 國民黨：擺爛成\n",
            " 3/31 https://www.ptt.cc/bbs/Gossiping/M.1743428415.A.203.html [問卦] 美股現在暴跌 台股明天還有救嗎\n",
            " 3/31 https://www.ptt.cc/bbs/Gossiping/M.1743428428.A.A9E.html [新聞] 張庭女兒走秀遭酸民嗆長的醜 她高EQ回擊\n",
            " 3/31 https://www.ptt.cc/bbs/Gossiping/M.1743428509.A.001.html [問卦] 要怎樣讓大家上戰場不投降？\n",
            " 3/31 https://www.ptt.cc/bbs/Gossiping/M.1743428516.A.935.html [問卦] 7天假的進度幾%了？\n",
            " 3/31 https://www.ptt.cc/bbs/Gossiping/M.1743428703.A.31D.html Re: [問卦] 錫蘭八炯 要開戰了嗎\n",
            " 3/31 https://www.ptt.cc/bbs/Gossiping/M.1743428718.A.DF2.html [問卦] 恩綺比台女有氣質耶？\n",
            " 3/31 https://www.ptt.cc/bbs/Gossiping/M.1743428721.A.7FE.html [問卦] 青年勞工月薪中位數3.1萬元是真的嗎？？\n",
            " 3/31 https://www.ptt.cc/bbs/Gossiping/M.1743428724.A.A34.html [問卦] 有台灣人去花72萬台幣去鶴崗買房\n",
            " 3/31 https://www.ptt.cc/bbs/Gossiping/M.1743428729.A.187.html [問卦] 美股繼續開低欸 明天還有大腸麵嗎？\n",
            " 3/31 https://www.ptt.cc/bbs/Gossiping/M.1743428768.A.C6B.html [問卦] 該買HD 600嗎\n",
            " 3/31 https://www.ptt.cc/bbs/Gossiping/M.1743428782.A.2BF.html [問卦] 不小心摸到奶要怎麼道歉？\n",
            " 3/31 https://www.ptt.cc/bbs/Gossiping/M.1743428800.A.127.html [問卦] 變臉+AI幼童影片可以釣出會員嗎？\n",
            " 3/31 https://www.ptt.cc/bbs/Gossiping/M.1743428845.A.F34.html [問卦] chatgpt還能怎麼玩\n",
            " 3/31 https://www.ptt.cc/bbs/Gossiping/M.1743428854.A.17F.html [新聞] 很多人想但不好意思啟齒 這款口味冰淇淋終於問世\n",
            " 3/31 https://www.ptt.cc/bbs/Gossiping/M.1743429014.A.F57.html Re: [問卦] 美國會對烏克蘭宣戰嗎\n",
            " 3/31 https://www.ptt.cc/bbs/Gossiping/M.1743429033.A.F56.html [問卦] 李沐(台灣演員）算美女嗎？\n",
            " 3/31 https://www.ptt.cc/bbs/Gossiping/M.1743427410.A.CD2.html Re: [新聞] 取消監控鍾文智未送達、增補理由、抽換電話紀錄　高\n",
            " 3/31 https://www.ptt.cc/bbs/Gossiping/M.1743427413.A.E83.html Re: [新聞] 趙少康嘆：現在最後悔的人是柯文哲　若願當副手\n",
            " 3/31 https://www.ptt.cc/bbs/Gossiping/M.1743427479.A.6AC.html [問卦] 兒子孫子媳婦都在美國，應該支持戰爭吧？\n",
            " 3/31 https://www.ptt.cc/bbs/Gossiping/M.1743427548.A.87D.html [問卦] 〓.〓 如果給廚具一個mvp應該是！微波\n",
            " 3/31 https://www.ptt.cc/bbs/Gossiping/M.1743427570.A.562.html [問卦] 顯卡缺貨 都沒人出來管嗎?\n",
            " 3/31 https://www.ptt.cc/bbs/Gossiping/M.1743427572.A.C42.html Re: [問卦] 現代戰爭死亡人數為什麼那麼少\n",
            " 3/31 https://www.ptt.cc/bbs/Gossiping/M.1743427645.A.CDA.html Re: [新聞] 取消監控鍾文智未送達、增補理由、抽換電話紀錄　高院2\n",
            " 3/31 https://www.ptt.cc/bbs/Gossiping/M.1743427764.A.105.html [問卦] 小微死不回祖國是不是辱華了\n",
            " 3/31 https://www.ptt.cc/bbs/Gossiping/M.1743427775.A.07B.html [問卦] 八炯：想看移民署逮捕小薇的跟我一起來\n",
            " 3/31 https://www.ptt.cc/bbs/Gossiping/M.1743427787.A.C09.html [問卦] 不是說好大家要一起彎腰撿鑽石的嗎?\n",
            " 3/31 https://www.ptt.cc/bbs/Gossiping/M.1743428064.A.3CE.html Re: [問卦] 八炯：想看移民署逮捕小薇的跟我一起來\n",
            " 3/31 https://www.ptt.cc/bbs/Gossiping/M.1743428081.A.FF6.html Re: [新聞] 取消監控鍾文智未送達、增補理由、抽換電話紀錄　高\n",
            " 3/31 https://www.ptt.cc/bbs/Gossiping/M.1743428104.A.EEE.html Re: [問卦] 陸配小微為何被抖音封殺了？\n",
            " 3/31 https://www.ptt.cc/bbs/Gossiping/M.1743428127.A.01A.html [問卦] 放走鍾文智的庭長在大學教法律?\n",
            " 3/31 https://www.ptt.cc/bbs/Gossiping/M.1743428158.A.1B1.html [新聞] 國民黨提案加放五天假！朝野激辯卡關送\n",
            " 3/31 https://www.ptt.cc/bbs/Gossiping/M.1743428179.A.E20.html [問卦] 貝莉苺跟國動誰會先啃倒另一半\n",
            " 3/31 https://www.ptt.cc/bbs/Gossiping/M.1743428201.A.587.html [新聞] 獨家／精誠資訊驚傳遭駭客攻擊勒索 緊急\n",
            " 3/31 https://www.ptt.cc/bbs/Gossiping/M.1743428203.A.E2F.html [問卦] 林俊傑的歌是不是比油條還油阿\n",
            " 3/31  (本文已被刪除) [lelena]\n",
            " 3/31 https://www.ptt.cc/bbs/Gossiping/M.1743428297.A.B58.html [問卦] 為什麼西方人不喜歡吃狗肉?\n",
            " 3/31 https://www.ptt.cc/bbs/Gossiping/M.1743426374.A.437.html [問卦] Peugeot 是一個怎樣的牌子?\n",
            " 3/31 https://www.ptt.cc/bbs/Gossiping/M.1743426517.A.4C1.html [新聞] 租金補貼凍結200億遭批說謊？劉世芳還原\n",
            " 3/31 https://www.ptt.cc/bbs/Gossiping/M.1743426665.A.D44.html [問卦] 有沒有發現其實自己是甲甲的八卦\n",
            " 3/31 https://www.ptt.cc/bbs/Gossiping/M.1743426687.A.F0A.html [問卦] 現代戰爭死亡人數為什麼那麼少\n",
            " 3/31 https://www.ptt.cc/bbs/Gossiping/M.1743426714.A.387.html [新聞] 取消監控鍾文智未送達、增補理由、抽換電話紀錄　高院2法官\n",
            " 3/31 https://www.ptt.cc/bbs/Gossiping/M.1743426756.A.9EE.html [問卦] 河馬草食性為啥要給這麼大咬合力?\n",
            " 3/31 https://www.ptt.cc/bbs/Gossiping/M.1743426793.A.BB4.html Re: [新聞] 綠提案修《陸海空軍刑法》　言語效忠敵人\n",
            " 3/31 https://www.ptt.cc/bbs/Gossiping/M.1743426863.A.0C4.html Re: [新聞] 陳佩琪快看！柯文哲今「身體健康」北所密\n",
            " 3/31 https://www.ptt.cc/bbs/Gossiping/M.1743426939.A.F68.html [問卦] 所以檢察體系到底有多垃圾啊\n",
            " 3/31 https://www.ptt.cc/bbs/Gossiping/M.1743426983.A.6BA.html [問卦] 永野芽郁跟廣瀨絲絲，誰正??\n",
            " 3/31 https://www.ptt.cc/bbs/Gossiping/M.1743426988.A.A2E.html Re: [問卦] 如果今天性別對調 金賽綸下場是什麼\n",
            " 3/31 https://www.ptt.cc/bbs/Gossiping/M.1743426991.A.4B9.html [新聞] 恩綺已出境、小微仍未買機票　移民署說\n",
            " 3/31 https://www.ptt.cc/bbs/Gossiping/M.1743426992.A.830.html [問卦] 找65歲腎臟科醫師會醫好嗎？\n",
            " 3/31 https://www.ptt.cc/bbs/Gossiping/M.1743427041.A.245.html Re: [新聞] 綠提案修《陸海空軍刑法》　言語效忠敵人\n",
            " 3/31 https://www.ptt.cc/bbs/Gossiping/M.1743427098.A.1FC.html Re: [問卦] 為何現在還有人願意讀土博士而不出國?\n",
            " 3/31 https://www.ptt.cc/bbs/Gossiping/M.1743427202.A.FE8.html [問卦] 緬甸地震台灣人要捐多少才OK????????????\n",
            " 3/31 https://www.ptt.cc/bbs/Gossiping/M.1743427278.A.503.html [新聞] 商圈共構完整生活機能 「富堡晶鑄」成熟\n",
            " 3/31 https://www.ptt.cc/bbs/Gossiping/M.1743427313.A.7AF.html [問卦] 為何很多女生喜歡男生小腿細長沒肌肉？\n",
            " 3/31 https://www.ptt.cc/bbs/Gossiping/M.1743427324.A.08A.html [新聞] 金秀賢全身黑現身記者會！韓網轟「不忘\n",
            " 3/31 https://www.ptt.cc/bbs/Gossiping/M.1743427337.A.CA7.html [問卦] 開戰會有限定版口號嗎？\n"
          ]
        }
      ]
    }
  ]
}